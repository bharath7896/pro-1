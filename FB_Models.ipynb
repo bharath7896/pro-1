{
  "nbformat": 4,
  "nbformat_minor": 0,
  "metadata": {
    "colab": {
      "name": "FB_Models.ipynb",
      "provenance": [],
      "collapsed_sections": [],
      "include_colab_link": true
    },
    "kernelspec": {
      "name": "python3",
      "display_name": "Python 3"
    },
    "accelerator": "TPU"
  },
  "cells": [
    {
      "cell_type": "markdown",
      "metadata": {
        "id": "view-in-github",
        "colab_type": "text"
      },
      "source": [
        "<a href=\"https://colab.research.google.com/github/bharath7896/pro-1/blob/master/FB_Models.ipynb\" target=\"_parent\"><img src=\"https://colab.research.google.com/assets/colab-badge.svg\" alt=\"Open In Colab\"/></a>"
      ]
    },
    {
      "cell_type": "markdown",
      "metadata": {
        "id": "naWvqMEMHglO",
        "colab_type": "text"
      },
      "source": [
        "<p style=\"font-size:32px;text-align:center\"> <b>Social network Graph Link Prediction - Facebook Challenge</b> </p>"
      ]
    },
    {
      "cell_type": "code",
      "metadata": {
        "id": "9wb9N5RzHglP",
        "colab_type": "code",
        "colab": {}
      },
      "source": [
        "#Importing Libraries\n",
        "# please do go through this python notebook: \n",
        "import warnings\n",
        "warnings.filterwarnings(\"ignore\")\n",
        "\n",
        "import csv\n",
        "import pandas as pd#pandas to create small dataframes \n",
        "import datetime #Convert to unix time\n",
        "import time #Convert to unix time\n",
        "# if numpy is not installed already : pip3 install numpy\n",
        "import numpy as np#Do aritmetic operations on arrays\n",
        "# matplotlib: used to plot graphs\n",
        "import matplotlib\n",
        "import matplotlib.pylab as plt\n",
        "import seaborn as sns#Plots\n",
        "from matplotlib import rcParams#Size of plots  \n",
        "from sklearn.cluster import MiniBatchKMeans, KMeans#Clustering\n",
        "import math\n",
        "import pickle\n",
        "import os\n",
        "# to install xgboost: pip3 install xgboost\n",
        "import xgboost as xgb\n",
        "\n",
        "import warnings\n",
        "import networkx as nx\n",
        "import pdb\n",
        "import pickle\n",
        "from pandas import HDFStore,DataFrame\n",
        "from pandas import read_hdf\n",
        "from scipy.sparse.linalg import svds, eigs\n",
        "import gc\n",
        "from tqdm import tqdm\n",
        "from sklearn.ensemble import RandomForestClassifier\n",
        "from sklearn.metrics import f1_score"
      ],
      "execution_count": 0,
      "outputs": []
    },
    {
      "cell_type": "code",
      "metadata": {
        "id": "UGTwQDTFgSdM",
        "colab_type": "code",
        "outputId": "cf5a9dd0-4e77-4a72-ab89-a32bf776f7b3",
        "colab": {
          "base_uri": "https://localhost:8080/",
          "height": 122
        }
      },
      "source": [
        "from google.colab import drive\n",
        "import pandas as pd\n",
        "drive.mount('/content/gdrive')"
      ],
      "execution_count": 0,
      "outputs": [
        {
          "output_type": "stream",
          "text": [
            "Go to this URL in a browser: https://accounts.google.com/o/oauth2/auth?client_id=947318989803-6bn6qk8qdgf4n4g3pfee6491hc0brc4i.apps.googleusercontent.com&redirect_uri=urn%3Aietf%3Awg%3Aoauth%3A2.0%3Aoob&scope=email%20https%3A%2F%2Fwww.googleapis.com%2Fauth%2Fdocs.test%20https%3A%2F%2Fwww.googleapis.com%2Fauth%2Fdrive%20https%3A%2F%2Fwww.googleapis.com%2Fauth%2Fdrive.photos.readonly%20https%3A%2F%2Fwww.googleapis.com%2Fauth%2Fpeopleapi.readonly&response_type=code\n",
            "\n",
            "Enter your authorization code:\n",
            "··········\n",
            "Mounted at /content/gdrive\n"
          ],
          "name": "stdout"
        }
      ]
    },
    {
      "cell_type": "code",
      "metadata": {
        "id": "pWKg11c2gdAA",
        "colab_type": "code",
        "outputId": "1b316b6f-2910-438c-b443-59d5e9f5ee49",
        "colab": {
          "base_uri": "https://localhost:8080/",
          "height": 34
        }
      },
      "source": [
        "cd /content/gdrive/My Drive"
      ],
      "execution_count": 0,
      "outputs": [
        {
          "output_type": "stream",
          "text": [
            "/content/gdrive/My Drive\n"
          ],
          "name": "stdout"
        }
      ]
    },
    {
      "cell_type": "code",
      "metadata": {
        "id": "XC4OJFKkHglU",
        "colab_type": "code",
        "colab": {}
      },
      "source": [
        "#reading\n",
        "from pandas import read_hdf\n",
        "df_final_train = read_hdf('storage_sample_stage4.h5', 'train_df',mode='r')\n",
        "df_final_test = read_hdf('storage_sample_stage4.h5', 'test_df',mode='r')"
      ],
      "execution_count": 0,
      "outputs": []
    },
    {
      "cell_type": "code",
      "metadata": {
        "id": "5Gm-BHRkHglW",
        "colab_type": "code",
        "outputId": "e8744c52-30b7-469f-b29d-73207696ba22",
        "colab": {
          "base_uri": "https://localhost:8080/",
          "height": 238
        }
      },
      "source": [
        "df_final_train.columns"
      ],
      "execution_count": 0,
      "outputs": [
        {
          "output_type": "execute_result",
          "data": {
            "text/plain": [
              "Index(['source_node', 'destination_node', 'indicator_link',\n",
              "       'jaccard_followers', 'jaccard_followees', 'cosine_followers',\n",
              "       'cosine_followees', 'num_followers_s', 'num_followees_s',\n",
              "       'num_followees_d', 'inter_followers', 'inter_followees', 'adar_index',\n",
              "       'follows_back', 'same_comp', 'shortest_path', 'weight_in', 'weight_out',\n",
              "       'weight_f1', 'weight_f2', 'weight_f3', 'weight_f4', 'page_rank_s',\n",
              "       'page_rank_d', 'katz_s', 'katz_d', 'hubs_s', 'hubs_d', 'authorities_s',\n",
              "       'authorities_d', 'svd_u_s_1', 'svd_u_s_2', 'svd_u_s_3', 'svd_u_s_4',\n",
              "       'svd_u_s_5', 'svd_u_s_6', 'svd_u_d_1', 'svd_u_d_2', 'svd_u_d_3',\n",
              "       'svd_u_d_4', 'svd_u_d_5', 'svd_u_d_6', 'svd_v_s_1', 'svd_v_s_2',\n",
              "       'svd_v_s_3', 'svd_v_s_4', 'svd_v_s_5', 'svd_v_s_6', 'svd_v_d_1',\n",
              "       'svd_v_d_2', 'svd_v_d_3', 'svd_v_d_4', 'svd_v_d_5', 'svd_v_d_6'],\n",
              "      dtype='object')"
            ]
          },
          "metadata": {
            "tags": []
          },
          "execution_count": 5
        }
      ]
    },
    {
      "cell_type": "code",
      "metadata": {
        "id": "hkpwdp2y8qSq",
        "colab_type": "code",
        "outputId": "d320b89c-a4e1-4938-fb10-48406161f7ce",
        "colab": {
          "base_uri": "https://localhost:8080/",
          "height": 549
        }
      },
      "source": [
        "df_final_train.head(10)"
      ],
      "execution_count": 0,
      "outputs": [
        {
          "output_type": "execute_result",
          "data": {
            "text/html": [
              "<div>\n",
              "<style scoped>\n",
              "    .dataframe tbody tr th:only-of-type {\n",
              "        vertical-align: middle;\n",
              "    }\n",
              "\n",
              "    .dataframe tbody tr th {\n",
              "        vertical-align: top;\n",
              "    }\n",
              "\n",
              "    .dataframe thead th {\n",
              "        text-align: right;\n",
              "    }\n",
              "</style>\n",
              "<table border=\"1\" class=\"dataframe\">\n",
              "  <thead>\n",
              "    <tr style=\"text-align: right;\">\n",
              "      <th></th>\n",
              "      <th>source_node</th>\n",
              "      <th>destination_node</th>\n",
              "      <th>indicator_link</th>\n",
              "      <th>jaccard_followers</th>\n",
              "      <th>jaccard_followees</th>\n",
              "      <th>cosine_followers</th>\n",
              "      <th>cosine_followees</th>\n",
              "      <th>num_followers_s</th>\n",
              "      <th>num_followees_s</th>\n",
              "      <th>num_followees_d</th>\n",
              "      <th>inter_followers</th>\n",
              "      <th>inter_followees</th>\n",
              "      <th>adar_index</th>\n",
              "      <th>follows_back</th>\n",
              "      <th>same_comp</th>\n",
              "      <th>shortest_path</th>\n",
              "      <th>weight_in</th>\n",
              "      <th>weight_out</th>\n",
              "      <th>weight_f1</th>\n",
              "      <th>weight_f2</th>\n",
              "      <th>weight_f3</th>\n",
              "      <th>weight_f4</th>\n",
              "      <th>page_rank_s</th>\n",
              "      <th>page_rank_d</th>\n",
              "      <th>katz_s</th>\n",
              "      <th>katz_d</th>\n",
              "      <th>hubs_s</th>\n",
              "      <th>hubs_d</th>\n",
              "      <th>authorities_s</th>\n",
              "      <th>authorities_d</th>\n",
              "      <th>svd_u_s_1</th>\n",
              "      <th>svd_u_s_2</th>\n",
              "      <th>svd_u_s_3</th>\n",
              "      <th>svd_u_s_4</th>\n",
              "      <th>svd_u_s_5</th>\n",
              "      <th>svd_u_s_6</th>\n",
              "      <th>svd_u_d_1</th>\n",
              "      <th>svd_u_d_2</th>\n",
              "      <th>svd_u_d_3</th>\n",
              "      <th>svd_u_d_4</th>\n",
              "      <th>svd_u_d_5</th>\n",
              "      <th>svd_u_d_6</th>\n",
              "      <th>svd_v_s_1</th>\n",
              "      <th>svd_v_s_2</th>\n",
              "      <th>svd_v_s_3</th>\n",
              "      <th>svd_v_s_4</th>\n",
              "      <th>svd_v_s_5</th>\n",
              "      <th>svd_v_s_6</th>\n",
              "      <th>svd_v_d_1</th>\n",
              "      <th>svd_v_d_2</th>\n",
              "      <th>svd_v_d_3</th>\n",
              "      <th>svd_v_d_4</th>\n",
              "      <th>svd_v_d_5</th>\n",
              "      <th>svd_v_d_6</th>\n",
              "    </tr>\n",
              "  </thead>\n",
              "  <tbody>\n",
              "    <tr>\n",
              "      <th>0</th>\n",
              "      <td>273084</td>\n",
              "      <td>1505602</td>\n",
              "      <td>1</td>\n",
              "      <td>0</td>\n",
              "      <td>0.000000</td>\n",
              "      <td>0.000000</td>\n",
              "      <td>0.000000</td>\n",
              "      <td>6</td>\n",
              "      <td>15</td>\n",
              "      <td>8</td>\n",
              "      <td>0</td>\n",
              "      <td>0</td>\n",
              "      <td>0.000000</td>\n",
              "      <td>0</td>\n",
              "      <td>1</td>\n",
              "      <td>4</td>\n",
              "      <td>0.377964</td>\n",
              "      <td>0.250000</td>\n",
              "      <td>0.627964</td>\n",
              "      <td>0.094491</td>\n",
              "      <td>1.005929</td>\n",
              "      <td>0.877964</td>\n",
              "      <td>2.045290e-06</td>\n",
              "      <td>3.459963e-07</td>\n",
              "      <td>0.000773</td>\n",
              "      <td>0.000756</td>\n",
              "      <td>1.943132e-13</td>\n",
              "      <td>1.941103e-13</td>\n",
              "      <td>9.226339e-16</td>\n",
              "      <td>2.231877e-15</td>\n",
              "      <td>-1.666226e-13</td>\n",
              "      <td>4.613397e-13</td>\n",
              "      <td>1.043044e-05</td>\n",
              "      <td>6.676960e-13</td>\n",
              "      <td>2.451081e-13</td>\n",
              "      <td>3.584580e-12</td>\n",
              "      <td>-2.038017e-11</td>\n",
              "      <td>5.397495e-13</td>\n",
              "      <td>1.068946e-06</td>\n",
              "      <td>1.192357e-12</td>\n",
              "      <td>2.279485e-12</td>\n",
              "      <td>3.580837e-12</td>\n",
              "      <td>-7.216133e-13</td>\n",
              "      <td>3.925975e-13</td>\n",
              "      <td>1.983691e-06</td>\n",
              "      <td>1.545075e-13</td>\n",
              "      <td>8.108434e-13</td>\n",
              "      <td>1.719702e-14</td>\n",
              "      <td>-1.355368e-12</td>\n",
              "      <td>4.675307e-13</td>\n",
              "      <td>1.128591e-06</td>\n",
              "      <td>6.616550e-14</td>\n",
              "      <td>9.771077e-13</td>\n",
              "      <td>4.159752e-14</td>\n",
              "    </tr>\n",
              "    <tr>\n",
              "      <th>1</th>\n",
              "      <td>832016</td>\n",
              "      <td>1543415</td>\n",
              "      <td>1</td>\n",
              "      <td>0</td>\n",
              "      <td>0.187135</td>\n",
              "      <td>0.028382</td>\n",
              "      <td>0.343828</td>\n",
              "      <td>94</td>\n",
              "      <td>61</td>\n",
              "      <td>142</td>\n",
              "      <td>11</td>\n",
              "      <td>32</td>\n",
              "      <td>16.362912</td>\n",
              "      <td>0</td>\n",
              "      <td>1</td>\n",
              "      <td>2</td>\n",
              "      <td>0.102598</td>\n",
              "      <td>0.127000</td>\n",
              "      <td>0.229598</td>\n",
              "      <td>0.013030</td>\n",
              "      <td>0.332196</td>\n",
              "      <td>0.356598</td>\n",
              "      <td>2.353458e-07</td>\n",
              "      <td>6.427660e-07</td>\n",
              "      <td>0.000845</td>\n",
              "      <td>0.001317</td>\n",
              "      <td>3.906648e-11</td>\n",
              "      <td>9.424102e-11</td>\n",
              "      <td>1.208074e-11</td>\n",
              "      <td>1.273080e-10</td>\n",
              "      <td>7.051088e-13</td>\n",
              "      <td>-8.250564e-11</td>\n",
              "      <td>-1.717702e-10</td>\n",
              "      <td>3.705016e-02</td>\n",
              "      <td>1.032392e-11</td>\n",
              "      <td>7.207497e-10</td>\n",
              "      <td>1.644399e-12</td>\n",
              "      <td>-2.047752e-10</td>\n",
              "      <td>-3.943936e-10</td>\n",
              "      <td>8.617541e-02</td>\n",
              "      <td>2.399540e-11</td>\n",
              "      <td>1.738682e-09</td>\n",
              "      <td>2.685878e-13</td>\n",
              "      <td>-3.316849e-11</td>\n",
              "      <td>-6.236048e-11</td>\n",
              "      <td>1.345726e-02</td>\n",
              "      <td>3.703479e-12</td>\n",
              "      <td>2.251737e-10</td>\n",
              "      <td>1.245101e-12</td>\n",
              "      <td>-1.636948e-10</td>\n",
              "      <td>-3.112650e-10</td>\n",
              "      <td>6.738902e-02</td>\n",
              "      <td>2.607801e-11</td>\n",
              "      <td>2.372904e-09</td>\n",
              "    </tr>\n",
              "    <tr>\n",
              "      <th>2</th>\n",
              "      <td>1325247</td>\n",
              "      <td>760242</td>\n",
              "      <td>1</td>\n",
              "      <td>0</td>\n",
              "      <td>0.369565</td>\n",
              "      <td>0.156957</td>\n",
              "      <td>0.566038</td>\n",
              "      <td>28</td>\n",
              "      <td>41</td>\n",
              "      <td>22</td>\n",
              "      <td>26</td>\n",
              "      <td>17</td>\n",
              "      <td>10.991826</td>\n",
              "      <td>0</td>\n",
              "      <td>1</td>\n",
              "      <td>2</td>\n",
              "      <td>0.185695</td>\n",
              "      <td>0.154303</td>\n",
              "      <td>0.339999</td>\n",
              "      <td>0.028653</td>\n",
              "      <td>0.525694</td>\n",
              "      <td>0.494302</td>\n",
              "      <td>6.211019e-07</td>\n",
              "      <td>5.179801e-07</td>\n",
              "      <td>0.000885</td>\n",
              "      <td>0.000855</td>\n",
              "      <td>7.730764e-114</td>\n",
              "      <td>4.067322e-114</td>\n",
              "      <td>2.681298e-113</td>\n",
              "      <td>2.199205e-113</td>\n",
              "      <td>-4.900734e-18</td>\n",
              "      <td>1.096831e-18</td>\n",
              "      <td>-6.816555e-19</td>\n",
              "      <td>-2.226453e-18</td>\n",
              "      <td>6.710556e-19</td>\n",
              "      <td>-8.161336e-19</td>\n",
              "      <td>-2.606312e-18</td>\n",
              "      <td>6.392474e-19</td>\n",
              "      <td>-4.245830e-19</td>\n",
              "      <td>-1.315747e-18</td>\n",
              "      <td>3.849627e-19</td>\n",
              "      <td>-1.131971e-18</td>\n",
              "      <td>-1.510265e-18</td>\n",
              "      <td>1.454979e-19</td>\n",
              "      <td>-2.380564e-19</td>\n",
              "      <td>-7.021227e-19</td>\n",
              "      <td>1.940403e-19</td>\n",
              "      <td>-3.365389e-19</td>\n",
              "      <td>-1.238370e-18</td>\n",
              "      <td>1.438175e-19</td>\n",
              "      <td>-1.852863e-19</td>\n",
              "      <td>-5.901864e-19</td>\n",
              "      <td>1.629341e-19</td>\n",
              "      <td>-2.572452e-19</td>\n",
              "    </tr>\n",
              "    <tr>\n",
              "      <th>3</th>\n",
              "      <td>1368400</td>\n",
              "      <td>1006992</td>\n",
              "      <td>1</td>\n",
              "      <td>0</td>\n",
              "      <td>0.000000</td>\n",
              "      <td>0.000000</td>\n",
              "      <td>0.000000</td>\n",
              "      <td>11</td>\n",
              "      <td>5</td>\n",
              "      <td>7</td>\n",
              "      <td>0</td>\n",
              "      <td>0</td>\n",
              "      <td>0.000000</td>\n",
              "      <td>0</td>\n",
              "      <td>1</td>\n",
              "      <td>6</td>\n",
              "      <td>0.288675</td>\n",
              "      <td>0.408248</td>\n",
              "      <td>0.696923</td>\n",
              "      <td>0.117851</td>\n",
              "      <td>0.985599</td>\n",
              "      <td>1.105172</td>\n",
              "      <td>2.998153e-07</td>\n",
              "      <td>1.704245e-06</td>\n",
              "      <td>0.000739</td>\n",
              "      <td>0.000773</td>\n",
              "      <td>5.443738e-17</td>\n",
              "      <td>4.139999e-16</td>\n",
              "      <td>2.413250e-14</td>\n",
              "      <td>6.688064e-15</td>\n",
              "      <td>-9.965436e-12</td>\n",
              "      <td>4.077137e-13</td>\n",
              "      <td>5.083778e-10</td>\n",
              "      <td>1.985267e-14</td>\n",
              "      <td>2.471968e-12</td>\n",
              "      <td>1.004354e-15</td>\n",
              "      <td>-2.629029e-13</td>\n",
              "      <td>1.428940e-11</td>\n",
              "      <td>9.146784e-11</td>\n",
              "      <td>8.590132e-12</td>\n",
              "      <td>2.406658e-10</td>\n",
              "      <td>7.638106e-15</td>\n",
              "      <td>-2.170899e-13</td>\n",
              "      <td>5.206150e-13</td>\n",
              "      <td>6.058498e-11</td>\n",
              "      <td>1.514614e-11</td>\n",
              "      <td>1.513483e-12</td>\n",
              "      <td>4.498061e-13</td>\n",
              "      <td>-9.818087e-10</td>\n",
              "      <td>3.454672e-11</td>\n",
              "      <td>5.213635e-08</td>\n",
              "      <td>9.595823e-13</td>\n",
              "      <td>3.047045e-10</td>\n",
              "      <td>1.246592e-13</td>\n",
              "    </tr>\n",
              "    <tr>\n",
              "      <th>4</th>\n",
              "      <td>140165</td>\n",
              "      <td>1708748</td>\n",
              "      <td>1</td>\n",
              "      <td>0</td>\n",
              "      <td>0.000000</td>\n",
              "      <td>0.000000</td>\n",
              "      <td>0.000000</td>\n",
              "      <td>1</td>\n",
              "      <td>11</td>\n",
              "      <td>3</td>\n",
              "      <td>0</td>\n",
              "      <td>0</td>\n",
              "      <td>0.000000</td>\n",
              "      <td>0</td>\n",
              "      <td>0</td>\n",
              "      <td>-1</td>\n",
              "      <td>1.000000</td>\n",
              "      <td>0.301511</td>\n",
              "      <td>1.301511</td>\n",
              "      <td>0.301511</td>\n",
              "      <td>2.301511</td>\n",
              "      <td>1.603023</td>\n",
              "      <td>4.349180e-07</td>\n",
              "      <td>2.089590e-07</td>\n",
              "      <td>0.000751</td>\n",
              "      <td>0.000735</td>\n",
              "      <td>3.887821e-16</td>\n",
              "      <td>4.721269e-16</td>\n",
              "      <td>7.552255e-16</td>\n",
              "      <td>2.734009e-18</td>\n",
              "      <td>-3.408943e-13</td>\n",
              "      <td>1.125207e-13</td>\n",
              "      <td>3.190883e-07</td>\n",
              "      <td>8.550846e-14</td>\n",
              "      <td>1.405351e-13</td>\n",
              "      <td>7.172313e-15</td>\n",
              "      <td>-2.550169e-13</td>\n",
              "      <td>2.424636e-13</td>\n",
              "      <td>2.436301e-07</td>\n",
              "      <td>3.679960e-14</td>\n",
              "      <td>1.348520e-13</td>\n",
              "      <td>8.710393e-15</td>\n",
              "      <td>-4.795514e-13</td>\n",
              "      <td>1.521297e-13</td>\n",
              "      <td>1.197283e-07</td>\n",
              "      <td>1.999809e-14</td>\n",
              "      <td>3.360247e-13</td>\n",
              "      <td>1.407670e-14</td>\n",
              "      <td>0.000000e+00</td>\n",
              "      <td>0.000000e+00</td>\n",
              "      <td>0.000000e+00</td>\n",
              "      <td>0.000000e+00</td>\n",
              "      <td>0.000000e+00</td>\n",
              "      <td>0.000000e+00</td>\n",
              "    </tr>\n",
              "    <tr>\n",
              "      <th>5</th>\n",
              "      <td>1377733</td>\n",
              "      <td>375423</td>\n",
              "      <td>1</td>\n",
              "      <td>0</td>\n",
              "      <td>0.125000</td>\n",
              "      <td>0.148148</td>\n",
              "      <td>0.223607</td>\n",
              "      <td>9</td>\n",
              "      <td>10</td>\n",
              "      <td>8</td>\n",
              "      <td>4</td>\n",
              "      <td>2</td>\n",
              "      <td>1.824340</td>\n",
              "      <td>1</td>\n",
              "      <td>1</td>\n",
              "      <td>2</td>\n",
              "      <td>0.316228</td>\n",
              "      <td>0.301511</td>\n",
              "      <td>0.617739</td>\n",
              "      <td>0.095346</td>\n",
              "      <td>0.933967</td>\n",
              "      <td>0.919250</td>\n",
              "      <td>5.942343e-07</td>\n",
              "      <td>1.143388e-06</td>\n",
              "      <td>0.000767</td>\n",
              "      <td>0.000766</td>\n",
              "      <td>9.056178e-17</td>\n",
              "      <td>2.229857e-17</td>\n",
              "      <td>4.543496e-17</td>\n",
              "      <td>1.291569e-17</td>\n",
              "      <td>-7.838391e-14</td>\n",
              "      <td>6.584130e-12</td>\n",
              "      <td>1.759039e-12</td>\n",
              "      <td>6.944254e-12</td>\n",
              "      <td>7.819878e-14</td>\n",
              "      <td>1.670934e-15</td>\n",
              "      <td>-4.378054e-14</td>\n",
              "      <td>3.243218e-12</td>\n",
              "      <td>7.057785e-13</td>\n",
              "      <td>5.398602e-13</td>\n",
              "      <td>2.633662e-14</td>\n",
              "      <td>4.112752e-16</td>\n",
              "      <td>-6.127103e-13</td>\n",
              "      <td>1.308765e-11</td>\n",
              "      <td>6.029881e-12</td>\n",
              "      <td>1.807043e-12</td>\n",
              "      <td>4.053920e-13</td>\n",
              "      <td>8.468577e-16</td>\n",
              "      <td>-3.034187e-13</td>\n",
              "      <td>8.154763e-12</td>\n",
              "      <td>4.915173e-13</td>\n",
              "      <td>3.509642e-13</td>\n",
              "      <td>2.726584e-13</td>\n",
              "      <td>2.407333e-16</td>\n",
              "    </tr>\n",
              "    <tr>\n",
              "      <th>6</th>\n",
              "      <td>1691962</td>\n",
              "      <td>1039906</td>\n",
              "      <td>1</td>\n",
              "      <td>0</td>\n",
              "      <td>0.000000</td>\n",
              "      <td>0.000000</td>\n",
              "      <td>0.000000</td>\n",
              "      <td>5</td>\n",
              "      <td>1</td>\n",
              "      <td>4</td>\n",
              "      <td>0</td>\n",
              "      <td>0</td>\n",
              "      <td>0.000000</td>\n",
              "      <td>1</td>\n",
              "      <td>1</td>\n",
              "      <td>-1</td>\n",
              "      <td>0.447214</td>\n",
              "      <td>1.000000</td>\n",
              "      <td>1.447214</td>\n",
              "      <td>0.447214</td>\n",
              "      <td>1.894427</td>\n",
              "      <td>2.447214</td>\n",
              "      <td>2.848986e-07</td>\n",
              "      <td>1.128758e-06</td>\n",
              "      <td>0.000735</td>\n",
              "      <td>0.000750</td>\n",
              "      <td>1.601784e-19</td>\n",
              "      <td>3.976197e-19</td>\n",
              "      <td>2.796157e-21</td>\n",
              "      <td>2.231628e-17</td>\n",
              "      <td>-1.599401e-19</td>\n",
              "      <td>1.862738e-19</td>\n",
              "      <td>-1.884781e-19</td>\n",
              "      <td>-1.522941e-19</td>\n",
              "      <td>-1.175270e-19</td>\n",
              "      <td>-1.457924e-20</td>\n",
              "      <td>-2.237373e-15</td>\n",
              "      <td>4.435526e-15</td>\n",
              "      <td>2.227236e-09</td>\n",
              "      <td>2.384049e-16</td>\n",
              "      <td>2.845535e-15</td>\n",
              "      <td>7.400311e-18</td>\n",
              "      <td>-2.266391e-17</td>\n",
              "      <td>4.419603e-17</td>\n",
              "      <td>2.161987e-11</td>\n",
              "      <td>2.278569e-18</td>\n",
              "      <td>2.273561e-17</td>\n",
              "      <td>5.257603e-20</td>\n",
              "      <td>-1.134555e-13</td>\n",
              "      <td>5.258108e-15</td>\n",
              "      <td>1.030865e-07</td>\n",
              "      <td>5.761211e-15</td>\n",
              "      <td>1.513797e-14</td>\n",
              "      <td>4.159309e-16</td>\n",
              "    </tr>\n",
              "    <tr>\n",
              "      <th>7</th>\n",
              "      <td>628080</td>\n",
              "      <td>812266</td>\n",
              "      <td>1</td>\n",
              "      <td>0</td>\n",
              "      <td>0.000000</td>\n",
              "      <td>0.117851</td>\n",
              "      <td>0.000000</td>\n",
              "      <td>3</td>\n",
              "      <td>7</td>\n",
              "      <td>7</td>\n",
              "      <td>1</td>\n",
              "      <td>0</td>\n",
              "      <td>0.000000</td>\n",
              "      <td>1</td>\n",
              "      <td>1</td>\n",
              "      <td>3</td>\n",
              "      <td>0.500000</td>\n",
              "      <td>0.353553</td>\n",
              "      <td>0.853553</td>\n",
              "      <td>0.176777</td>\n",
              "      <td>1.353553</td>\n",
              "      <td>1.207107</td>\n",
              "      <td>6.694862e-07</td>\n",
              "      <td>5.254600e-07</td>\n",
              "      <td>0.000763</td>\n",
              "      <td>0.000743</td>\n",
              "      <td>5.606024e-16</td>\n",
              "      <td>3.412867e-17</td>\n",
              "      <td>4.750293e-15</td>\n",
              "      <td>4.411926e-18</td>\n",
              "      <td>-1.476298e-10</td>\n",
              "      <td>5.038578e-13</td>\n",
              "      <td>2.045470e-10</td>\n",
              "      <td>5.691834e-13</td>\n",
              "      <td>1.210959e-11</td>\n",
              "      <td>1.034241e-14</td>\n",
              "      <td>-1.289044e-13</td>\n",
              "      <td>5.343420e-15</td>\n",
              "      <td>3.091799e-11</td>\n",
              "      <td>1.127330e-13</td>\n",
              "      <td>2.054875e-12</td>\n",
              "      <td>6.293848e-16</td>\n",
              "      <td>-1.252428e-11</td>\n",
              "      <td>4.297731e-13</td>\n",
              "      <td>3.182852e-09</td>\n",
              "      <td>1.178502e-11</td>\n",
              "      <td>2.567417e-10</td>\n",
              "      <td>8.853974e-14</td>\n",
              "      <td>-1.497446e-12</td>\n",
              "      <td>5.091851e-15</td>\n",
              "      <td>2.288960e-12</td>\n",
              "      <td>7.654502e-15</td>\n",
              "      <td>1.454794e-13</td>\n",
              "      <td>8.222904e-17</td>\n",
              "    </tr>\n",
              "    <tr>\n",
              "      <th>8</th>\n",
              "      <td>1725153</td>\n",
              "      <td>1822102</td>\n",
              "      <td>1</td>\n",
              "      <td>0</td>\n",
              "      <td>0.000000</td>\n",
              "      <td>0.000000</td>\n",
              "      <td>0.000000</td>\n",
              "      <td>13</td>\n",
              "      <td>9</td>\n",
              "      <td>9</td>\n",
              "      <td>0</td>\n",
              "      <td>0</td>\n",
              "      <td>0.000000</td>\n",
              "      <td>0</td>\n",
              "      <td>1</td>\n",
              "      <td>5</td>\n",
              "      <td>0.267261</td>\n",
              "      <td>0.316228</td>\n",
              "      <td>0.583489</td>\n",
              "      <td>0.084515</td>\n",
              "      <td>0.850750</td>\n",
              "      <td>0.899717</td>\n",
              "      <td>1.466870e-06</td>\n",
              "      <td>1.373409e-06</td>\n",
              "      <td>0.000757</td>\n",
              "      <td>0.000781</td>\n",
              "      <td>5.731343e-17</td>\n",
              "      <td>6.754239e-16</td>\n",
              "      <td>2.183972e-18</td>\n",
              "      <td>1.780266e-16</td>\n",
              "      <td>-2.568658e-14</td>\n",
              "      <td>2.588946e-13</td>\n",
              "      <td>8.349265e-13</td>\n",
              "      <td>3.181230e-13</td>\n",
              "      <td>2.427904e-13</td>\n",
              "      <td>1.057623e-15</td>\n",
              "      <td>-1.001002e-11</td>\n",
              "      <td>2.897660e-13</td>\n",
              "      <td>2.068380e-12</td>\n",
              "      <td>1.561035e-11</td>\n",
              "      <td>7.347200e-12</td>\n",
              "      <td>1.246086e-14</td>\n",
              "      <td>-9.467083e-16</td>\n",
              "      <td>3.337864e-14</td>\n",
              "      <td>3.129442e-14</td>\n",
              "      <td>1.810250e-13</td>\n",
              "      <td>3.368463e-14</td>\n",
              "      <td>4.071085e-17</td>\n",
              "      <td>-3.994068e-13</td>\n",
              "      <td>2.433104e-13</td>\n",
              "      <td>5.703881e-13</td>\n",
              "      <td>1.782188e-11</td>\n",
              "      <td>1.800730e-13</td>\n",
              "      <td>3.318246e-15</td>\n",
              "    </tr>\n",
              "    <tr>\n",
              "      <th>9</th>\n",
              "      <td>654494</td>\n",
              "      <td>1487831</td>\n",
              "      <td>1</td>\n",
              "      <td>0</td>\n",
              "      <td>0.111111</td>\n",
              "      <td>0.188982</td>\n",
              "      <td>0.218218</td>\n",
              "      <td>2</td>\n",
              "      <td>7</td>\n",
              "      <td>3</td>\n",
              "      <td>1</td>\n",
              "      <td>1</td>\n",
              "      <td>0.897712</td>\n",
              "      <td>1</td>\n",
              "      <td>1</td>\n",
              "      <td>2</td>\n",
              "      <td>0.577350</td>\n",
              "      <td>0.353553</td>\n",
              "      <td>0.930904</td>\n",
              "      <td>0.204124</td>\n",
              "      <td>1.508254</td>\n",
              "      <td>1.284457</td>\n",
              "      <td>6.630224e-07</td>\n",
              "      <td>2.618341e-07</td>\n",
              "      <td>0.000758</td>\n",
              "      <td>0.000739</td>\n",
              "      <td>2.494454e-16</td>\n",
              "      <td>2.271664e-17</td>\n",
              "      <td>1.496622e-15</td>\n",
              "      <td>1.261214e-17</td>\n",
              "      <td>-9.278558e-14</td>\n",
              "      <td>1.750615e-14</td>\n",
              "      <td>3.036631e-06</td>\n",
              "      <td>4.122667e-14</td>\n",
              "      <td>1.394701e-13</td>\n",
              "      <td>4.601802e-15</td>\n",
              "      <td>-4.046840e-15</td>\n",
              "      <td>2.018570e-15</td>\n",
              "      <td>1.788154e-07</td>\n",
              "      <td>1.536390e-15</td>\n",
              "      <td>5.159185e-15</td>\n",
              "      <td>4.191458e-16</td>\n",
              "      <td>1.097440e-13</td>\n",
              "      <td>3.581792e-15</td>\n",
              "      <td>7.688551e-06</td>\n",
              "      <td>4.370646e-14</td>\n",
              "      <td>2.123603e-13</td>\n",
              "      <td>2.789305e-14</td>\n",
              "      <td>-5.228629e-15</td>\n",
              "      <td>2.701351e-15</td>\n",
              "      <td>1.020694e-07</td>\n",
              "      <td>5.219083e-15</td>\n",
              "      <td>4.038258e-14</td>\n",
              "      <td>2.350714e-16</td>\n",
              "    </tr>\n",
              "  </tbody>\n",
              "</table>\n",
              "</div>"
            ],
            "text/plain": [
              "   source_node  destination_node  ...     svd_v_d_5     svd_v_d_6\n",
              "0       273084           1505602  ...  9.771077e-13  4.159752e-14\n",
              "1       832016           1543415  ...  2.607801e-11  2.372904e-09\n",
              "2      1325247            760242  ...  1.629341e-19 -2.572452e-19\n",
              "3      1368400           1006992  ...  3.047045e-10  1.246592e-13\n",
              "4       140165           1708748  ...  0.000000e+00  0.000000e+00\n",
              "5      1377733            375423  ...  2.726584e-13  2.407333e-16\n",
              "6      1691962           1039906  ...  1.513797e-14  4.159309e-16\n",
              "7       628080            812266  ...  1.454794e-13  8.222904e-17\n",
              "8      1725153           1822102  ...  1.800730e-13  3.318246e-15\n",
              "9       654494           1487831  ...  4.038258e-14  2.350714e-16\n",
              "\n",
              "[10 rows x 54 columns]"
            ]
          },
          "metadata": {
            "tags": []
          },
          "execution_count": 14
        }
      ]
    },
    {
      "cell_type": "code",
      "metadata": {
        "id": "XRW7VZ4AHglc",
        "colab_type": "code",
        "colab": {}
      },
      "source": [
        "y_train = df_final_train.indicator_link\n",
        "y_test = df_final_test.indicator_link"
      ],
      "execution_count": 0,
      "outputs": []
    },
    {
      "cell_type": "code",
      "metadata": {
        "id": "ETVUJoTYmv5c",
        "colab_type": "code",
        "outputId": "eef34126-b374-4ba5-952d-2a1014665633",
        "colab": {
          "base_uri": "https://localhost:8080/",
          "height": 119
        }
      },
      "source": [
        "y_train.head()"
      ],
      "execution_count": 0,
      "outputs": [
        {
          "output_type": "execute_result",
          "data": {
            "text/plain": [
              "0    1\n",
              "1    1\n",
              "2    1\n",
              "3    1\n",
              "4    1\n",
              "Name: indicator_link, dtype: int64"
            ]
          },
          "metadata": {
            "tags": []
          },
          "execution_count": 10
        }
      ]
    },
    {
      "cell_type": "code",
      "metadata": {
        "id": "4lj9M_qtHglf",
        "colab_type": "code",
        "colab": {}
      },
      "source": [
        "df_final_train.drop(['source_node', 'destination_node','indicator_link'],axis=1,inplace=True)\n",
        "df_final_test.drop(['source_node', 'destination_node','indicator_link'],axis=1,inplace=True)"
      ],
      "execution_count": 0,
      "outputs": []
    },
    {
      "cell_type": "code",
      "metadata": {
        "id": "kfhe55NXnCpI",
        "colab_type": "code",
        "outputId": "4316524c-1a73-4523-a18d-abd6a69c9a6f",
        "colab": {
          "base_uri": "https://localhost:8080/",
          "height": 309
        }
      },
      "source": [
        "df_final_train.head()"
      ],
      "execution_count": 0,
      "outputs": [
        {
          "output_type": "execute_result",
          "data": {
            "text/html": [
              "<div>\n",
              "<style scoped>\n",
              "    .dataframe tbody tr th:only-of-type {\n",
              "        vertical-align: middle;\n",
              "    }\n",
              "\n",
              "    .dataframe tbody tr th {\n",
              "        vertical-align: top;\n",
              "    }\n",
              "\n",
              "    .dataframe thead th {\n",
              "        text-align: right;\n",
              "    }\n",
              "</style>\n",
              "<table border=\"1\" class=\"dataframe\">\n",
              "  <thead>\n",
              "    <tr style=\"text-align: right;\">\n",
              "      <th></th>\n",
              "      <th>jaccard_followers</th>\n",
              "      <th>jaccard_followees</th>\n",
              "      <th>cosine_followers</th>\n",
              "      <th>cosine_followees</th>\n",
              "      <th>num_followers_s</th>\n",
              "      <th>num_followees_s</th>\n",
              "      <th>num_followees_d</th>\n",
              "      <th>inter_followers</th>\n",
              "      <th>inter_followees</th>\n",
              "      <th>adar_index</th>\n",
              "      <th>follows_back</th>\n",
              "      <th>same_comp</th>\n",
              "      <th>shortest_path</th>\n",
              "      <th>weight_in</th>\n",
              "      <th>weight_out</th>\n",
              "      <th>weight_f1</th>\n",
              "      <th>weight_f2</th>\n",
              "      <th>weight_f3</th>\n",
              "      <th>weight_f4</th>\n",
              "      <th>page_rank_s</th>\n",
              "      <th>page_rank_d</th>\n",
              "      <th>katz_s</th>\n",
              "      <th>katz_d</th>\n",
              "      <th>hubs_s</th>\n",
              "      <th>hubs_d</th>\n",
              "      <th>authorities_s</th>\n",
              "      <th>authorities_d</th>\n",
              "      <th>svd_u_s_1</th>\n",
              "      <th>svd_u_s_2</th>\n",
              "      <th>svd_u_s_3</th>\n",
              "      <th>svd_u_s_4</th>\n",
              "      <th>svd_u_s_5</th>\n",
              "      <th>svd_u_s_6</th>\n",
              "      <th>svd_u_d_1</th>\n",
              "      <th>svd_u_d_2</th>\n",
              "      <th>svd_u_d_3</th>\n",
              "      <th>svd_u_d_4</th>\n",
              "      <th>svd_u_d_5</th>\n",
              "      <th>svd_u_d_6</th>\n",
              "      <th>svd_v_s_1</th>\n",
              "      <th>svd_v_s_2</th>\n",
              "      <th>svd_v_s_3</th>\n",
              "      <th>svd_v_s_4</th>\n",
              "      <th>svd_v_s_5</th>\n",
              "      <th>svd_v_s_6</th>\n",
              "      <th>svd_v_d_1</th>\n",
              "      <th>svd_v_d_2</th>\n",
              "      <th>svd_v_d_3</th>\n",
              "      <th>svd_v_d_4</th>\n",
              "      <th>svd_v_d_5</th>\n",
              "      <th>svd_v_d_6</th>\n",
              "    </tr>\n",
              "  </thead>\n",
              "  <tbody>\n",
              "    <tr>\n",
              "      <th>0</th>\n",
              "      <td>0</td>\n",
              "      <td>0.000000</td>\n",
              "      <td>0.000000</td>\n",
              "      <td>0.000000</td>\n",
              "      <td>6</td>\n",
              "      <td>15</td>\n",
              "      <td>8</td>\n",
              "      <td>0</td>\n",
              "      <td>0</td>\n",
              "      <td>0.000000</td>\n",
              "      <td>0</td>\n",
              "      <td>1</td>\n",
              "      <td>4</td>\n",
              "      <td>0.377964</td>\n",
              "      <td>0.250000</td>\n",
              "      <td>0.627964</td>\n",
              "      <td>0.094491</td>\n",
              "      <td>1.005929</td>\n",
              "      <td>0.877964</td>\n",
              "      <td>2.045290e-06</td>\n",
              "      <td>3.459963e-07</td>\n",
              "      <td>0.000773</td>\n",
              "      <td>0.000756</td>\n",
              "      <td>1.943132e-13</td>\n",
              "      <td>1.941103e-13</td>\n",
              "      <td>9.226339e-16</td>\n",
              "      <td>2.231877e-15</td>\n",
              "      <td>-1.666226e-13</td>\n",
              "      <td>4.613397e-13</td>\n",
              "      <td>1.043044e-05</td>\n",
              "      <td>6.676960e-13</td>\n",
              "      <td>2.451081e-13</td>\n",
              "      <td>3.584580e-12</td>\n",
              "      <td>-2.038017e-11</td>\n",
              "      <td>5.397495e-13</td>\n",
              "      <td>1.068946e-06</td>\n",
              "      <td>1.192357e-12</td>\n",
              "      <td>2.279485e-12</td>\n",
              "      <td>3.580837e-12</td>\n",
              "      <td>-7.216133e-13</td>\n",
              "      <td>3.925975e-13</td>\n",
              "      <td>1.983691e-06</td>\n",
              "      <td>1.545075e-13</td>\n",
              "      <td>8.108434e-13</td>\n",
              "      <td>1.719702e-14</td>\n",
              "      <td>-1.355368e-12</td>\n",
              "      <td>4.675307e-13</td>\n",
              "      <td>1.128591e-06</td>\n",
              "      <td>6.616550e-14</td>\n",
              "      <td>9.771077e-13</td>\n",
              "      <td>4.159752e-14</td>\n",
              "    </tr>\n",
              "    <tr>\n",
              "      <th>1</th>\n",
              "      <td>0</td>\n",
              "      <td>0.187135</td>\n",
              "      <td>0.028382</td>\n",
              "      <td>0.343828</td>\n",
              "      <td>94</td>\n",
              "      <td>61</td>\n",
              "      <td>142</td>\n",
              "      <td>11</td>\n",
              "      <td>32</td>\n",
              "      <td>16.362912</td>\n",
              "      <td>0</td>\n",
              "      <td>1</td>\n",
              "      <td>2</td>\n",
              "      <td>0.102598</td>\n",
              "      <td>0.127000</td>\n",
              "      <td>0.229598</td>\n",
              "      <td>0.013030</td>\n",
              "      <td>0.332196</td>\n",
              "      <td>0.356598</td>\n",
              "      <td>2.353458e-07</td>\n",
              "      <td>6.427660e-07</td>\n",
              "      <td>0.000845</td>\n",
              "      <td>0.001317</td>\n",
              "      <td>3.906648e-11</td>\n",
              "      <td>9.424102e-11</td>\n",
              "      <td>1.208074e-11</td>\n",
              "      <td>1.273080e-10</td>\n",
              "      <td>7.051088e-13</td>\n",
              "      <td>-8.250564e-11</td>\n",
              "      <td>-1.717702e-10</td>\n",
              "      <td>3.705016e-02</td>\n",
              "      <td>1.032392e-11</td>\n",
              "      <td>7.207497e-10</td>\n",
              "      <td>1.644399e-12</td>\n",
              "      <td>-2.047752e-10</td>\n",
              "      <td>-3.943936e-10</td>\n",
              "      <td>8.617541e-02</td>\n",
              "      <td>2.399540e-11</td>\n",
              "      <td>1.738682e-09</td>\n",
              "      <td>2.685878e-13</td>\n",
              "      <td>-3.316849e-11</td>\n",
              "      <td>-6.236048e-11</td>\n",
              "      <td>1.345726e-02</td>\n",
              "      <td>3.703479e-12</td>\n",
              "      <td>2.251737e-10</td>\n",
              "      <td>1.245101e-12</td>\n",
              "      <td>-1.636948e-10</td>\n",
              "      <td>-3.112650e-10</td>\n",
              "      <td>6.738902e-02</td>\n",
              "      <td>2.607801e-11</td>\n",
              "      <td>2.372904e-09</td>\n",
              "    </tr>\n",
              "    <tr>\n",
              "      <th>2</th>\n",
              "      <td>0</td>\n",
              "      <td>0.369565</td>\n",
              "      <td>0.156957</td>\n",
              "      <td>0.566038</td>\n",
              "      <td>28</td>\n",
              "      <td>41</td>\n",
              "      <td>22</td>\n",
              "      <td>26</td>\n",
              "      <td>17</td>\n",
              "      <td>10.991826</td>\n",
              "      <td>0</td>\n",
              "      <td>1</td>\n",
              "      <td>2</td>\n",
              "      <td>0.185695</td>\n",
              "      <td>0.154303</td>\n",
              "      <td>0.339999</td>\n",
              "      <td>0.028653</td>\n",
              "      <td>0.525694</td>\n",
              "      <td>0.494302</td>\n",
              "      <td>6.211019e-07</td>\n",
              "      <td>5.179801e-07</td>\n",
              "      <td>0.000885</td>\n",
              "      <td>0.000855</td>\n",
              "      <td>7.730764e-114</td>\n",
              "      <td>4.067322e-114</td>\n",
              "      <td>2.681298e-113</td>\n",
              "      <td>2.199205e-113</td>\n",
              "      <td>-4.900734e-18</td>\n",
              "      <td>1.096831e-18</td>\n",
              "      <td>-6.816555e-19</td>\n",
              "      <td>-2.226453e-18</td>\n",
              "      <td>6.710556e-19</td>\n",
              "      <td>-8.161336e-19</td>\n",
              "      <td>-2.606312e-18</td>\n",
              "      <td>6.392474e-19</td>\n",
              "      <td>-4.245830e-19</td>\n",
              "      <td>-1.315747e-18</td>\n",
              "      <td>3.849627e-19</td>\n",
              "      <td>-1.131971e-18</td>\n",
              "      <td>-1.510265e-18</td>\n",
              "      <td>1.454979e-19</td>\n",
              "      <td>-2.380564e-19</td>\n",
              "      <td>-7.021227e-19</td>\n",
              "      <td>1.940403e-19</td>\n",
              "      <td>-3.365389e-19</td>\n",
              "      <td>-1.238370e-18</td>\n",
              "      <td>1.438175e-19</td>\n",
              "      <td>-1.852863e-19</td>\n",
              "      <td>-5.901864e-19</td>\n",
              "      <td>1.629341e-19</td>\n",
              "      <td>-2.572452e-19</td>\n",
              "    </tr>\n",
              "    <tr>\n",
              "      <th>3</th>\n",
              "      <td>0</td>\n",
              "      <td>0.000000</td>\n",
              "      <td>0.000000</td>\n",
              "      <td>0.000000</td>\n",
              "      <td>11</td>\n",
              "      <td>5</td>\n",
              "      <td>7</td>\n",
              "      <td>0</td>\n",
              "      <td>0</td>\n",
              "      <td>0.000000</td>\n",
              "      <td>0</td>\n",
              "      <td>1</td>\n",
              "      <td>6</td>\n",
              "      <td>0.288675</td>\n",
              "      <td>0.408248</td>\n",
              "      <td>0.696923</td>\n",
              "      <td>0.117851</td>\n",
              "      <td>0.985599</td>\n",
              "      <td>1.105172</td>\n",
              "      <td>2.998153e-07</td>\n",
              "      <td>1.704245e-06</td>\n",
              "      <td>0.000739</td>\n",
              "      <td>0.000773</td>\n",
              "      <td>5.443738e-17</td>\n",
              "      <td>4.139999e-16</td>\n",
              "      <td>2.413250e-14</td>\n",
              "      <td>6.688064e-15</td>\n",
              "      <td>-9.965436e-12</td>\n",
              "      <td>4.077137e-13</td>\n",
              "      <td>5.083778e-10</td>\n",
              "      <td>1.985267e-14</td>\n",
              "      <td>2.471968e-12</td>\n",
              "      <td>1.004354e-15</td>\n",
              "      <td>-2.629029e-13</td>\n",
              "      <td>1.428940e-11</td>\n",
              "      <td>9.146784e-11</td>\n",
              "      <td>8.590132e-12</td>\n",
              "      <td>2.406658e-10</td>\n",
              "      <td>7.638106e-15</td>\n",
              "      <td>-2.170899e-13</td>\n",
              "      <td>5.206150e-13</td>\n",
              "      <td>6.058498e-11</td>\n",
              "      <td>1.514614e-11</td>\n",
              "      <td>1.513483e-12</td>\n",
              "      <td>4.498061e-13</td>\n",
              "      <td>-9.818087e-10</td>\n",
              "      <td>3.454672e-11</td>\n",
              "      <td>5.213635e-08</td>\n",
              "      <td>9.595823e-13</td>\n",
              "      <td>3.047045e-10</td>\n",
              "      <td>1.246592e-13</td>\n",
              "    </tr>\n",
              "    <tr>\n",
              "      <th>4</th>\n",
              "      <td>0</td>\n",
              "      <td>0.000000</td>\n",
              "      <td>0.000000</td>\n",
              "      <td>0.000000</td>\n",
              "      <td>1</td>\n",
              "      <td>11</td>\n",
              "      <td>3</td>\n",
              "      <td>0</td>\n",
              "      <td>0</td>\n",
              "      <td>0.000000</td>\n",
              "      <td>0</td>\n",
              "      <td>0</td>\n",
              "      <td>-1</td>\n",
              "      <td>1.000000</td>\n",
              "      <td>0.301511</td>\n",
              "      <td>1.301511</td>\n",
              "      <td>0.301511</td>\n",
              "      <td>2.301511</td>\n",
              "      <td>1.603023</td>\n",
              "      <td>4.349180e-07</td>\n",
              "      <td>2.089590e-07</td>\n",
              "      <td>0.000751</td>\n",
              "      <td>0.000735</td>\n",
              "      <td>3.887821e-16</td>\n",
              "      <td>4.721269e-16</td>\n",
              "      <td>7.552255e-16</td>\n",
              "      <td>2.734009e-18</td>\n",
              "      <td>-3.408943e-13</td>\n",
              "      <td>1.125207e-13</td>\n",
              "      <td>3.190883e-07</td>\n",
              "      <td>8.550846e-14</td>\n",
              "      <td>1.405351e-13</td>\n",
              "      <td>7.172313e-15</td>\n",
              "      <td>-2.550169e-13</td>\n",
              "      <td>2.424636e-13</td>\n",
              "      <td>2.436301e-07</td>\n",
              "      <td>3.679960e-14</td>\n",
              "      <td>1.348520e-13</td>\n",
              "      <td>8.710393e-15</td>\n",
              "      <td>-4.795514e-13</td>\n",
              "      <td>1.521297e-13</td>\n",
              "      <td>1.197283e-07</td>\n",
              "      <td>1.999809e-14</td>\n",
              "      <td>3.360247e-13</td>\n",
              "      <td>1.407670e-14</td>\n",
              "      <td>0.000000e+00</td>\n",
              "      <td>0.000000e+00</td>\n",
              "      <td>0.000000e+00</td>\n",
              "      <td>0.000000e+00</td>\n",
              "      <td>0.000000e+00</td>\n",
              "      <td>0.000000e+00</td>\n",
              "    </tr>\n",
              "  </tbody>\n",
              "</table>\n",
              "</div>"
            ],
            "text/plain": [
              "   jaccard_followers  jaccard_followees  ...     svd_v_d_5     svd_v_d_6\n",
              "0                  0           0.000000  ...  9.771077e-13  4.159752e-14\n",
              "1                  0           0.187135  ...  2.607801e-11  2.372904e-09\n",
              "2                  0           0.369565  ...  1.629341e-19 -2.572452e-19\n",
              "3                  0           0.000000  ...  3.047045e-10  1.246592e-13\n",
              "4                  0           0.000000  ...  0.000000e+00  0.000000e+00\n",
              "\n",
              "[5 rows x 51 columns]"
            ]
          },
          "metadata": {
            "tags": []
          },
          "execution_count": 10
        }
      ]
    },
    {
      "cell_type": "code",
      "metadata": {
        "id": "lIEc91uVHgli",
        "colab_type": "code",
        "outputId": "ec9b5e5d-0aec-4e35-ff70-fafef4d335f1",
        "colab": {
          "base_uri": "https://localhost:8080/",
          "height": 397
        }
      },
      "source": [
        "estimators = [10,50,100,250,450]\n",
        "train_scores = []\n",
        "test_scores = []\n",
        "for i in estimators:\n",
        "    clf = RandomForestClassifier(bootstrap=True, class_weight=None, criterion='gini',\n",
        "            max_depth=5, max_features='auto', max_leaf_nodes=None,\n",
        "            min_impurity_decrease=0.0, min_impurity_split=None,\n",
        "            min_samples_leaf=52, min_samples_split=120,\n",
        "            min_weight_fraction_leaf=0.0, n_estimators=i, n_jobs=-1,random_state=25,verbose=0,warm_start=False)\n",
        "    clf.fit(df_final_train,y_train)\n",
        "    train_sc = f1_score(y_train,clf.predict(df_final_train))\n",
        "    test_sc = f1_score(y_test,clf.predict(df_final_test))\n",
        "    test_scores.append(test_sc)\n",
        "    train_scores.append(train_sc)\n",
        "    print('Estimators = ',i,'Train Score',train_sc,'test Score',test_sc)\n",
        "plt.plot(estimators,train_scores,label='Train Score')\n",
        "plt.plot(estimators,test_scores,label='Test Score')\n",
        "plt.xlabel('Estimators')\n",
        "plt.ylabel('Score')\n",
        "plt.title('Estimators vs score at depth of 5')"
      ],
      "execution_count": 0,
      "outputs": [
        {
          "output_type": "stream",
          "text": [
            "Estimators =  10 Train Score 0.9063252121775113 test Score 0.8745605278006858\n",
            "Estimators =  50 Train Score 0.9205725512208812 test Score 0.9125653355634538\n",
            "Estimators =  100 Train Score 0.9238690848446947 test Score 0.9141199714153599\n",
            "Estimators =  250 Train Score 0.9239789348046863 test Score 0.9188007232664732\n",
            "Estimators =  450 Train Score 0.9237190618658074 test Score 0.9161507685828595\n"
          ],
          "name": "stdout"
        },
        {
          "output_type": "execute_result",
          "data": {
            "text/plain": [
              "Text(0.5, 1.0, 'Estimators vs score at depth of 5')"
            ]
          },
          "metadata": {
            "tags": []
          },
          "execution_count": 11
        },
        {
          "output_type": "display_data",
          "data": {
            "image/png": "[encoded data removed]",
            "text/plain": [
              "<Figure size 432x288 with 1 Axes>"
            ]
          },
          "metadata": {
            "tags": []
          }
        }
      ]
    },
    {
      "cell_type": "code",
      "metadata": {
        "id": "nZxhrTdQHglm",
        "colab_type": "code",
        "outputId": "205f23ff-20e0-437b-b858-ca0e96ab80d4",
        "colab": {
          "base_uri": "https://localhost:8080/",
          "height": 448
        }
      },
      "source": [
        "depths = [3,9,11,15,20,35,50,70,130]\n",
        "train_scores = []\n",
        "test_scores = []\n",
        "for i in depths:\n",
        "    clf = RandomForestClassifier(bootstrap=True, class_weight=None, criterion='gini',\n",
        "            max_depth=i, max_features='auto', max_leaf_nodes=None,\n",
        "            min_impurity_decrease=0.0, min_impurity_split=None,\n",
        "            min_samples_leaf=52, min_samples_split=120,\n",
        "            min_weight_fraction_leaf=0.0, n_estimators=115, n_jobs=-1,random_state=25,verbose=0,warm_start=False)\n",
        "    clf.fit(df_final_train,y_train)\n",
        "    train_sc = f1_score(y_train,clf.predict(df_final_train))\n",
        "    test_sc = f1_score(y_test,clf.predict(df_final_test))\n",
        "    test_scores.append(test_sc)\n",
        "    train_scores.append(train_sc)\n",
        "    print('depth = ',i,'Train Score',train_sc,'test Score',test_sc)\n",
        "plt.plot(depths,train_scores,label='Train Score')\n",
        "plt.plot(depths,test_scores,label='Test Score')\n",
        "plt.xlabel('Depth')\n",
        "plt.ylabel('Score')\n",
        "plt.title('Depth vs score at depth of 5 at estimators = 115')\n",
        "plt.show()"
      ],
      "execution_count": 0,
      "outputs": [
        {
          "output_type": "stream",
          "text": [
            "depth =  3 Train Score 0.8916120853581238 test Score 0.8687934859875491\n",
            "depth =  9 Train Score 0.9572226298198419 test Score 0.9222953031452904\n",
            "depth =  11 Train Score 0.9623451340902863 test Score 0.9252318758281279\n",
            "depth =  15 Train Score 0.9634267621927706 test Score 0.9231288356496615\n",
            "depth =  20 Train Score 0.9631629153051491 test Score 0.9235051024711141\n",
            "depth =  35 Train Score 0.9634333127085721 test Score 0.9235601652753184\n",
            "depth =  50 Train Score 0.9634333127085721 test Score 0.9235601652753184\n",
            "depth =  70 Train Score 0.9634333127085721 test Score 0.9235601652753184\n",
            "depth =  130 Train Score 0.9634333127085721 test Score 0.9235601652753184\n"
          ],
          "name": "stdout"
        },
        {
          "output_type": "display_data",
          "data": {
            "image/png": "[encoded data removed]",
            "text/plain": [
              "<Figure size 432x288 with 1 Axes>"
            ]
          },
          "metadata": {
            "tags": []
          }
        }
      ]
    },
    {
      "cell_type": "code",
      "metadata": {
        "id": "MrG1Lfl3Hglq",
        "colab_type": "code",
        "outputId": "84c29e39-efa6-48ac-a0bc-f5afe05c0dd2",
        "colab": {
          "base_uri": "https://localhost:8080/",
          "height": 51
        }
      },
      "source": [
        "from sklearn.metrics import f1_score\n",
        "from sklearn.ensemble import RandomForestClassifier\n",
        "from sklearn.metrics import f1_score\n",
        "from sklearn.model_selection import RandomizedSearchCV\n",
        "from scipy.stats import randint as sp_randint\n",
        "from scipy.stats import uniform\n",
        "\n",
        "param_dist = {\"n_estimators\":sp_randint(105,125),\n",
        "              \"max_depth\": sp_randint(10,15),\n",
        "              \"min_samples_split\": sp_randint(110,190),\n",
        "              \"min_samples_leaf\": sp_randint(25,65)}\n",
        "\n",
        "clf = RandomForestClassifier(random_state=25,n_jobs=-1)\n",
        "\n",
        "rf_random = RandomizedSearchCV(clf, param_distributions=param_dist,\n",
        "                                   n_iter=5,cv=10,scoring='f1',random_state=25, return_train_score=True)\n",
        "\n",
        "rf_random.fit(df_final_train,y_train)\n",
        "print('mean test scores',rf_random.cv_results_['mean_test_score'])\n",
        "print('mean train scores',rf_random.cv_results_['mean_train_score'])"
      ],
      "execution_count": 0,
      "outputs": [
        {
          "output_type": "stream",
          "text": [
            "mean test scores [0.96225043 0.96215493 0.96057081 0.96194015 0.96330005]\n",
            "mean train scores [0.96294922 0.96266735 0.96115674 0.96263457 0.96430539]\n"
          ],
          "name": "stdout"
        }
      ]
    },
    {
      "cell_type": "code",
      "metadata": {
        "id": "hme3j_diHglu",
        "colab_type": "code",
        "outputId": "02bdb09b-a2f2-4278-de5c-217142fc141b",
        "colab": {
          "base_uri": "https://localhost:8080/",
          "height": 136
        }
      },
      "source": [
        "print(rf_random.best_estimator_)"
      ],
      "execution_count": 0,
      "outputs": [
        {
          "output_type": "stream",
          "text": [
            "RandomForestClassifier(bootstrap=True, class_weight=None, criterion='gini',\n",
            "                       max_depth=14, max_features='auto', max_leaf_nodes=None,\n",
            "                       min_impurity_decrease=0.0, min_impurity_split=None,\n",
            "                       min_samples_leaf=28, min_samples_split=111,\n",
            "                       min_weight_fraction_leaf=0.0, n_estimators=121,\n",
            "                       n_jobs=-1, oob_score=False, random_state=25, verbose=0,\n",
            "                       warm_start=False)\n"
          ],
          "name": "stdout"
        }
      ]
    },
    {
      "cell_type": "code",
      "metadata": {
        "id": "qu4KIEweHglx",
        "colab_type": "code",
        "colab": {}
      },
      "source": [
        "clf = RandomForestClassifier(bootstrap=True, class_weight=None, criterion='gini',\n",
        "            max_depth=14, max_features='auto', max_leaf_nodes=None,\n",
        "            min_impurity_decrease=0.0, min_impurity_split=None,\n",
        "            min_samples_leaf=28, min_samples_split=111,\n",
        "            min_weight_fraction_leaf=0.0, n_estimators=121, n_jobs=-1,\n",
        "            oob_score=False, random_state=25, verbose=0, warm_start=False)"
      ],
      "execution_count": 0,
      "outputs": []
    },
    {
      "cell_type": "code",
      "metadata": {
        "id": "Dax83GfLHgl1",
        "colab_type": "code",
        "colab": {}
      },
      "source": [
        "clf.fit(df_final_train,y_train)\n",
        "y_train_pred = clf.predict(df_final_train)\n",
        "y_test_pred = clf.predict(df_final_test)"
      ],
      "execution_count": 0,
      "outputs": []
    },
    {
      "cell_type": "code",
      "metadata": {
        "id": "PTtAp1iTHgl4",
        "colab_type": "code",
        "outputId": "bc45c09e-66bc-4ffe-e84e-f3be7ae797f1",
        "colab": {
          "base_uri": "https://localhost:8080/",
          "height": 51
        }
      },
      "source": [
        "from sklearn.metrics import f1_score\n",
        "print('Train f1 score',f1_score(y_train,y_train_pred))\n",
        "print('Test f1 score',f1_score(y_test,y_test_pred))"
      ],
      "execution_count": 0,
      "outputs": [
        {
          "output_type": "stream",
          "text": [
            "Train f1 score 0.9652533106548414\n",
            "Test f1 score 0.9241678239279553\n"
          ],
          "name": "stdout"
        }
      ]
    },
    {
      "cell_type": "code",
      "metadata": {
        "id": "5XfUkZYQHgl7",
        "colab_type": "code",
        "colab": {}
      },
      "source": [
        "from sklearn.metrics import confusion_matrix\n",
        "def plot_confusion_matrix(test_y, predict_y):\n",
        "    C = confusion_matrix(test_y, predict_y)\n",
        "    \n",
        "    A =(((C.T)/(C.sum(axis=1))).T)\n",
        "    \n",
        "    B =(C/C.sum(axis=0))\n",
        "    plt.figure(figsize=(20,4))\n",
        "    \n",
        "    labels = [0,1]\n",
        "    # representing A in heatmap format\n",
        "    cmap=sns.light_palette(\"blue\")\n",
        "    plt.subplot(1, 3, 1)\n",
        "    sns.heatmap(C, annot=True, cmap=cmap, fmt=\".3f\", xticklabels=labels, yticklabels=labels)\n",
        "    plt.xlabel('Predicted Class')\n",
        "    plt.ylabel('Original Class')\n",
        "    plt.title(\"Confusion matrix\")\n",
        "    \n",
        "    plt.subplot(1, 3, 2)\n",
        "    sns.heatmap(B, annot=True, cmap=cmap, fmt=\".3f\", xticklabels=labels, yticklabels=labels)\n",
        "    plt.xlabel('Predicted Class')\n",
        "    plt.ylabel('Original Class')\n",
        "    plt.title(\"Precision matrix\")\n",
        "    \n",
        "    plt.subplot(1, 3, 3)\n",
        "    # representing B in heatmap format\n",
        "    sns.heatmap(A, annot=True, cmap=cmap, fmt=\".3f\", xticklabels=labels, yticklabels=labels)\n",
        "    plt.xlabel('Predicted Class')\n",
        "    plt.ylabel('Original Class')\n",
        "    plt.title(\"Recall matrix\")\n",
        "    \n",
        "    plt.show()"
      ],
      "execution_count": 0,
      "outputs": []
    },
    {
      "cell_type": "code",
      "metadata": {
        "id": "s6t11dhTHgl-",
        "colab_type": "code",
        "outputId": "2df1f97a-eb84-4eee-b649-349329b092b5",
        "colab": {
          "base_uri": "https://localhost:8080/",
          "height": 607
        }
      },
      "source": [
        "print('Train confusion_matrix')\n",
        "plot_confusion_matrix(y_train,y_train_pred)\n",
        "print('Test confusion_matrix')\n",
        "plot_confusion_matrix(y_test,y_test_pred)"
      ],
      "execution_count": 0,
      "outputs": [
        {
          "output_type": "stream",
          "text": [
            "Train confusion_matrix\n"
          ],
          "name": "stdout"
        },
        {
          "output_type": "display_data",
          "data": {
            "image/png": "[encoded data removed]",
            "text/plain": [
              "<Figure size 1440x288 with 6 Axes>"
            ]
          },
          "metadata": {
            "tags": []
          }
        },
        {
          "output_type": "stream",
          "text": [
            "Test confusion_matrix\n"
          ],
          "name": "stdout"
        },
        {
          "output_type": "display_data",
          "data": {
            "image/png": "[encoded data removed]",
            "text/plain": [
              "<Figure size 1440x288 with 6 Axes>"
            ]
          },
          "metadata": {
            "tags": []
          }
        }
      ]
    },
    {
      "cell_type": "code",
      "metadata": {
        "id": "61TF-VLeHgmD",
        "colab_type": "code",
        "outputId": "5e3e1e73-fb4c-40c5-f792-a143b0cc4326",
        "colab": {
          "base_uri": "https://localhost:8080/",
          "height": 295
        }
      },
      "source": [
        "from sklearn.metrics import roc_curve, auc\n",
        "fpr,tpr,ths = roc_curve(y_test,y_test_pred)\n",
        "auc_sc = auc(fpr, tpr)\n",
        "plt.plot(fpr, tpr, color='navy',label='ROC curve (area = %0.2f)' % auc_sc)\n",
        "plt.xlabel('False Positive Rate')\n",
        "plt.ylabel('True Positive Rate')\n",
        "plt.title('Receiver operating characteristic with test data')\n",
        "plt.legend()\n",
        "plt.show()"
      ],
      "execution_count": 0,
      "outputs": [
        {
          "output_type": "display_data",
          "data": {
            "image/png": "[encoded data removed]",
            "text/plain": [
              "<Figure size 432x288 with 1 Axes>"
            ]
          },
          "metadata": {
            "tags": []
          }
        }
      ]
    },
    {
      "cell_type": "code",
      "metadata": {
        "scrolled": false,
        "id": "HEZ7uvN6HgmK",
        "colab_type": "code",
        "outputId": "db5ada65-4a34-4d3f-a743-4bc8d3086712",
        "colab": {
          "base_uri": "https://localhost:8080/",
          "height": 730
        }
      },
      "source": [
        "features = df_final_train.columns\n",
        "importances = clf.feature_importances_\n",
        "indices = (np.argsort(importances))[-25:]\n",
        "plt.figure(figsize=(10,12))\n",
        "plt.title('Feature Importances')\n",
        "plt.barh(range(len(indices)), importances[indices], color='r', align='center')\n",
        "plt.yticks(range(len(indices)), [features[i] for i in indices])\n",
        "plt.xlabel('Relative Importance')\n",
        "plt.show()"
      ],
      "execution_count": 0,
      "outputs": [
        {
          "output_type": "display_data",
          "data": {
            "image/png": "[encoded data removed]",
            "text/plain": [
              "<Figure size 720x864 with 1 Axes>"
            ]
          },
          "metadata": {
            "tags": []
          }
        }
      ]
    },
    {
      "cell_type": "markdown",
      "metadata": {
        "id": "xdHW32hcHgmN",
        "colab_type": "text"
      },
      "source": [
        "# Assignments:\n",
        "\n",
        "1. Add another feature called  Preferential Attachment  with followers and followees data of vertex. you can check about Preferential Attachment in below link\n",
        "http://be.amazd.com/link-prediction/ <br>\n",
        "2. Add  feature called svd_dot. you can calculate svd_dot as Dot product between sourse node svd and destination node svd features.  you can read about this in below pdf \n",
        "https://storage.googleapis.com/kaggle-forum-message-attachments/2594/supervised_link_prediction.pdf<br>\n",
        "3. Tune hyperparameters for XG boost with all these features and check the error metric."
      ]
    },
    {
      "cell_type": "markdown",
      "metadata": {
        "id": "YUQV_-Q-y-5H",
        "colab_type": "text"
      },
      "source": [
        "# ***PREFERENTIAL ATTACHMENT***"
      ]
    },
    {
      "cell_type": "markdown",
      "metadata": {
        "id": "RBMRQbMf2rRG",
        "colab_type": "text"
      },
      "source": [
        "**NOTE** : BEFORE CALCULATING THE PREFERENTIAL ATTACHMENT WE HAVE TO CALCULATE THE DEGREE OF NODES IN THE GRAPH , BASED ON THE PROBABILITY OF DEGREE IN AND CONNECTIONS WE WILL GIVE THE PRIORITY TO THE HIGHEST DEGREE NODE."
      ]
    },
    {
      "cell_type": "code",
      "metadata": {
        "id": "PE9UnU63SDLA",
        "colab_type": "code",
        "outputId": "23b026c0-cecf-4ba6-f9df-d437220423d5",
        "colab": {
          "base_uri": "https://localhost:8080/",
          "height": 119
        }
      },
      "source": [
        "os.path.isfile('train_pos_after_eda.csv')\n",
        "train_graph=nx.read_edgelist('train_pos_after_eda.csv',delimiter=',',create_using=nx.DiGraph(),nodetype=int)\n",
        "print(nx.info(train_graph))"
      ],
      "execution_count": 0,
      "outputs": [
        {
          "output_type": "stream",
          "text": [
            "Name: \n",
            "Type: DiGraph\n",
            "Number of nodes: 1780722\n",
            "Number of edges: 7550015\n",
            "Average in degree:   4.2399\n",
            "Average out degree:   4.2399\n"
          ],
          "name": "stdout"
        }
      ]
    },
    {
      "cell_type": "markdown",
      "metadata": {
        "id": "AHk-rHxDt1CD",
        "colab_type": "text"
      },
      "source": [
        "## **PREFERENTIAL ATTACHMEN**T = |T(u)||T(v)| (where u,v are nodes and T represents the common set of nodes )"
      ]
    },
    {
      "cell_type": "code",
      "metadata": {
        "id": "K5m_LbvPsBY9",
        "colab_type": "code",
        "colab": {}
      },
      "source": [
        "#preferential attachment for followers\n",
        "def preferential_attach_er(a,b):\n",
        "    try:\n",
        "      if len(set(train_graph.predecessors(a))) == 0  | len(set(train_graph.predecessors(b))) == 0:\n",
        "        return 0\n",
        "      \n",
        "      pa = len(set(train_graph.predecessors(a)))*len((set(train_graph.predecessors(b))))\n",
        "    except:\n",
        "      return 0\n",
        "    return print(\"preferential attachment score of %d,%d is %d\" %(a,b,pa))\n",
        "    "
      ],
      "execution_count": 0,
      "outputs": []
    },
    {
      "cell_type": "code",
      "metadata": {
        "id": "gB51An2vedL_",
        "colab_type": "code",
        "outputId": "682b2b04-f66f-44ce-94a8-eb8d3a74946c",
        "colab": {
          "base_uri": "https://localhost:8080/",
          "height": 34
        }
      },
      "source": [
        "# for nodes in graph\n",
        "preferential_attach_er(273084,1505602)"
      ],
      "execution_count": 0,
      "outputs": [
        {
          "output_type": "stream",
          "text": [
            "preferential attachment score of 273084,1505602 is 66\n"
          ],
          "name": "stdout"
        }
      ]
    },
    {
      "cell_type": "code",
      "metadata": {
        "id": "8iUdDbMLubI2",
        "colab_type": "code",
        "outputId": "8392ba68-ed5c-4b2c-b1e7-6ad3e2dcd1b2",
        "colab": {
          "base_uri": "https://localhost:8080/",
          "height": 34
        }
      },
      "source": [
        "# for nodes not in graph\n",
        "preferential_attach_er(4333333,10000)"
      ],
      "execution_count": 0,
      "outputs": [
        {
          "output_type": "execute_result",
          "data": {
            "text/plain": [
              "0"
            ]
          },
          "metadata": {
            "tags": []
          },
          "execution_count": 23
        }
      ]
    },
    {
      "cell_type": "code",
      "metadata": {
        "id": "6oZqMdH8zi69",
        "colab_type": "code",
        "colab": {}
      },
      "source": [
        "#preferential attachment for followees\n",
        "def preferential_attach_es(a,b):\n",
        "    try:\n",
        "      if len(set(train_graph.successors(a))) == 0  | len(set(train_graph.successors(b))) == 0:\n",
        "        return 0\n",
        "      \n",
        "      pas = len(set(train_graph.successors(a)))*len((set(train_graph.successors(b))))\n",
        "    except:\n",
        "      return 0\n",
        "    return print(\"preferential attachment score of %d,%d is %d\" %(a,b,pas))\n",
        "    "
      ],
      "execution_count": 0,
      "outputs": []
    },
    {
      "cell_type": "code",
      "metadata": {
        "id": "b3meMWzDz6sC",
        "colab_type": "code",
        "outputId": "f504aab6-7679-4579-8f07-139f4af10cec",
        "colab": {
          "base_uri": "https://localhost:8080/",
          "height": 34
        }
      },
      "source": [
        "# for nodes in graph\n",
        "preferential_attach_es(273084,1505602)"
      ],
      "execution_count": 0,
      "outputs": [
        {
          "output_type": "stream",
          "text": [
            "preferential attachment score of 273084,1505602 is 120\n"
          ],
          "name": "stdout"
        }
      ]
    },
    {
      "cell_type": "code",
      "metadata": {
        "id": "ADXBKAMXZYbQ",
        "colab_type": "code",
        "outputId": "6a3e7bbd-9fd3-43f3-af65-47b65d52c410",
        "colab": {
          "base_uri": "https://localhost:8080/",
          "height": 34
        }
      },
      "source": [
        "# for nodes not in graph\n",
        "preferential_attach_es(4333333,10000)"
      ],
      "execution_count": 0,
      "outputs": [
        {
          "output_type": "execute_result",
          "data": {
            "text/plain": [
              "0"
            ]
          },
          "metadata": {
            "tags": []
          },
          "execution_count": 28
        }
      ]
    },
    {
      "cell_type": "code",
      "metadata": {
        "id": "Q5P81TNpSr6F",
        "colab_type": "code",
        "colab": {}
      },
      "source": [
        "if not os.path.isfile('data/fea_sample/storage_sample_stage1.h5'):\n",
        "  #mapping Preferential attachment followers to train and test data\n",
        "  df_final_train['preferential_attachment_followers'] = df_final_train.apply(lambda row:\n",
        "                                            preferential_attach_er(row['source_node'],row['destination_node']),axis=1)\n",
        "  #mapping preferential attachment followees to train and test data\n",
        "  df_final_train['preferential_attachment_followees'] = df_final_train.apply(lambda row:\n",
        "                                            preferential_attach_es(row['source_node'],row['destination_node']),axis=1)"
      ],
      "execution_count": 0,
      "outputs": []
    },
    {
      "cell_type": "code",
      "metadata": {
        "id": "2PZ7e4VaEz12",
        "colab_type": "code",
        "outputId": "1e5fccd5-037d-4f37-d288-bbad99a85278",
        "colab": {
          "base_uri": "https://localhost:8080/",
          "height": 272
        }
      },
      "source": [
        "df_final_train.columns"
      ],
      "execution_count": 0,
      "outputs": [
        {
          "output_type": "execute_result",
          "data": {
            "text/plain": [
              "Index(['source_node', 'destination_node', 'indicator_link',\n",
              "       'jaccard_followers', 'jaccard_followees', 'cosine_followers',\n",
              "       'cosine_followees', 'num_followers_s', 'num_followees_s',\n",
              "       'num_followees_d', 'inter_followers', 'inter_followees', 'adar_index',\n",
              "       'follows_back', 'same_comp', 'shortest_path', 'weight_in', 'weight_out',\n",
              "       'weight_f1', 'weight_f2', 'weight_f3', 'weight_f4', 'page_rank_s',\n",
              "       'page_rank_d', 'katz_s', 'katz_d', 'hubs_s', 'hubs_d', 'authorities_s',\n",
              "       'authorities_d', 'svd_u_s_1', 'svd_u_s_2', 'svd_u_s_3', 'svd_u_s_4',\n",
              "       'svd_u_s_5', 'svd_u_s_6', 'svd_u_d_1', 'svd_u_d_2', 'svd_u_d_3',\n",
              "       'svd_u_d_4', 'svd_u_d_5', 'svd_u_d_6', 'svd_v_s_1', 'svd_v_s_2',\n",
              "       'svd_v_s_3', 'svd_v_s_4', 'svd_v_s_5', 'svd_v_s_6', 'svd_v_d_1',\n",
              "       'svd_v_d_2', 'svd_v_d_3', 'svd_v_d_4', 'svd_v_d_5', 'svd_v_d_6',\n",
              "       'preferential_attachment_followers',\n",
              "       'preferential_attachment_followees'],\n",
              "      dtype='object')"
            ]
          },
          "metadata": {
            "tags": []
          },
          "execution_count": 31
        }
      ]
    },
    {
      "cell_type": "markdown",
      "metadata": {
        "id": "wsxR00pB9w9B",
        "colab_type": "text"
      },
      "source": [
        "# SVD_DOT"
      ]
    },
    {
      "cell_type": "code",
      "metadata": {
        "id": "kp1F0-X9PLPz",
        "colab_type": "code",
        "outputId": "80f20e00-7196-4610-8f3f-99fd4f475e8d",
        "colab": {
          "base_uri": "https://localhost:8080/",
          "height": 102
        }
      },
      "source": [
        "os.path.isfile('train_pos_after_eda.csv')\n",
        "train_graph_un=nx.read_edgelist('train_pos_after_eda.csv',delimiter=',',create_using=nx.Graph(),nodetype=int) # Here we are taking undirected graph for high auc\n",
        "print(nx.info(train_graph))"
      ],
      "execution_count": 0,
      "outputs": [
        {
          "output_type": "stream",
          "text": [
            "Name: \n",
            "Type: Graph\n",
            "Number of nodes: 1780722\n",
            "Number of edges: 5457004\n",
            "Average degree:   6.1290\n"
          ],
          "name": "stdout"
        }
      ]
    },
    {
      "cell_type": "code",
      "metadata": {
        "id": "WR6VYRvdY1GA",
        "colab_type": "code",
        "outputId": "268ed782-ccd3-4a82-d4c0-252b7a2f8a92",
        "colab": {
          "base_uri": "https://localhost:8080/",
          "height": 34
        }
      },
      "source": [
        "sn = df_final_train['source_node'].values\n",
        "dn = df_final_train['destination_node'].values\n",
        "sn.shape\n",
        "dn.shape"
      ],
      "execution_count": 0,
      "outputs": [
        {
          "output_type": "execute_result",
          "data": {
            "text/plain": [
              "(100002,)"
            ]
          },
          "metadata": {
            "tags": []
          },
          "execution_count": 39
        }
      ]
    },
    {
      "cell_type": "code",
      "metadata": {
        "id": "PVmx1Jz0aEV4",
        "colab_type": "code",
        "outputId": "d6e9cb51-d0c4-4427-e7e9-3da42bbe9c60",
        "colab": {
          "base_uri": "https://localhost:8080/",
          "height": 300
        }
      },
      "source": [
        "from scipy.linalg import svd\n",
        "a,s,b = svd(sn)"
      ],
      "execution_count": 0,
      "outputs": [
        {
          "output_type": "error",
          "ename": "ValueError",
          "evalue": "ignored",
          "traceback": [
            "\u001b[0;31m---------------------------------------------------------------------------\u001b[0m",
            "\u001b[0;31mValueError\u001b[0m                                Traceback (most recent call last)",
            "\u001b[0;32m<ipython-input-42-556b13287942>\u001b[0m in \u001b[0;36m<module>\u001b[0;34m()\u001b[0m\n\u001b[1;32m      1\u001b[0m \u001b[0;32mfrom\u001b[0m \u001b[0mscipy\u001b[0m\u001b[0;34m.\u001b[0m\u001b[0mlinalg\u001b[0m \u001b[0;32mimport\u001b[0m \u001b[0msvd\u001b[0m\u001b[0;34m\u001b[0m\u001b[0;34m\u001b[0m\u001b[0m\n\u001b[0;32m----> 2\u001b[0;31m \u001b[0ma\u001b[0m\u001b[0;34m,\u001b[0m\u001b[0ms\u001b[0m\u001b[0;34m,\u001b[0m\u001b[0mb\u001b[0m \u001b[0;34m=\u001b[0m \u001b[0msvd\u001b[0m\u001b[0;34m(\u001b[0m\u001b[0msn\u001b[0m\u001b[0;34m)\u001b[0m\u001b[0;34m\u001b[0m\u001b[0;34m\u001b[0m\u001b[0m\n\u001b[0m",
            "\u001b[0;32m/usr/local/lib/python3.6/dist-packages/scipy/linalg/decomp_svd.py\u001b[0m in \u001b[0;36msvd\u001b[0;34m(a, full_matrices, compute_uv, overwrite_a, check_finite, lapack_driver)\u001b[0m\n\u001b[1;32m    109\u001b[0m     \u001b[0ma1\u001b[0m \u001b[0;34m=\u001b[0m \u001b[0m_asarray_validated\u001b[0m\u001b[0;34m(\u001b[0m\u001b[0ma\u001b[0m\u001b[0;34m,\u001b[0m \u001b[0mcheck_finite\u001b[0m\u001b[0;34m=\u001b[0m\u001b[0mcheck_finite\u001b[0m\u001b[0;34m)\u001b[0m\u001b[0;34m\u001b[0m\u001b[0;34m\u001b[0m\u001b[0m\n\u001b[1;32m    110\u001b[0m     \u001b[0;32mif\u001b[0m \u001b[0mlen\u001b[0m\u001b[0;34m(\u001b[0m\u001b[0ma1\u001b[0m\u001b[0;34m.\u001b[0m\u001b[0mshape\u001b[0m\u001b[0;34m)\u001b[0m \u001b[0;34m!=\u001b[0m \u001b[0;36m2\u001b[0m\u001b[0;34m:\u001b[0m\u001b[0;34m\u001b[0m\u001b[0;34m\u001b[0m\u001b[0m\n\u001b[0;32m--> 111\u001b[0;31m         \u001b[0;32mraise\u001b[0m \u001b[0mValueError\u001b[0m\u001b[0;34m(\u001b[0m\u001b[0;34m'expected matrix'\u001b[0m\u001b[0;34m)\u001b[0m\u001b[0;34m\u001b[0m\u001b[0;34m\u001b[0m\u001b[0m\n\u001b[0m\u001b[1;32m    112\u001b[0m     \u001b[0mm\u001b[0m\u001b[0;34m,\u001b[0m \u001b[0mn\u001b[0m \u001b[0;34m=\u001b[0m \u001b[0ma1\u001b[0m\u001b[0;34m.\u001b[0m\u001b[0mshape\u001b[0m\u001b[0;34m\u001b[0m\u001b[0;34m\u001b[0m\u001b[0m\n\u001b[1;32m    113\u001b[0m     \u001b[0moverwrite_a\u001b[0m \u001b[0;34m=\u001b[0m \u001b[0moverwrite_a\u001b[0m \u001b[0;32mor\u001b[0m \u001b[0;34m(\u001b[0m\u001b[0m_datacopied\u001b[0m\u001b[0;34m(\u001b[0m\u001b[0ma1\u001b[0m\u001b[0;34m,\u001b[0m \u001b[0ma\u001b[0m\u001b[0;34m)\u001b[0m\u001b[0;34m)\u001b[0m\u001b[0;34m\u001b[0m\u001b[0;34m\u001b[0m\u001b[0m\n",
            "\u001b[0;31mValueError\u001b[0m: expected matrix"
          ]
        }
      ]
    },
    {
      "cell_type": "code",
      "metadata": {
        "id": "JwZKAoJTJvxW",
        "colab_type": "code",
        "colab": {}
      },
      "source": [
        "# calculating svd between source node and destination node\n",
        "def svd_dot(a,b):\n",
        "  '''Calculating svd dot product of node a and node b in the graph'''\n",
        "  "
      ],
      "execution_count": 0,
      "outputs": []
    }
  ]
}