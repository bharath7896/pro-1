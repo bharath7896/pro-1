{
  "nbformat": 4,
  "nbformat_minor": 0,
  "metadata": {
    "kernelspec": {
      "display_name": "Python 3",
      "language": "python",
      "name": "python3"
    },
    "language_info": {
      "codemirror_mode": {
        "name": "ipython",
        "version": 3
      },
      "file_extension": ".py",
      "mimetype": "text/x-python",
      "name": "python",
      "nbconvert_exporter": "python",
      "pygments_lexer": "ipython3",
      "version": "3.7.1"
    },
    "colab": {
      "name": "Quora Case Study Solution_ (1).ipynb",
      "provenance": [],
      "include_colab_link": true
    }
  },
  "cells": [
    {
      "cell_type": "markdown",
      "metadata": {
        "id": "view-in-github",
        "colab_type": "text"
      },
      "source": [
        "<a href=\"https://colab.research.google.com/github/bharath7896/pro-1/blob/master/Quora_Case_Study_Solution__(1).ipynb\" target=\"_parent\"><img src=\"https://colab.research.google.com/assets/colab-badge.svg\" alt=\"Open In Colab\"/></a>"
      ]
    },
    {
      "cell_type": "markdown",
      "metadata": {
        "id": "rEoplB49e13U",
        "colab_type": "text"
      },
      "source": [
        "# <h1> 5. Assignments </h1>"
      ]
    },
    {
      "cell_type": "markdown",
      "metadata": {
        "id": "nbPRQcVde13W",
        "colab_type": "text"
      },
      "source": [
        "1. Try out models (Logistic regression, Linear-SVM) with simple TF-IDF vectors instead of TD_IDF weighted word2Vec.\n",
        "2. Hyperparameter tune XgBoost using RandomSearch to reduce the log-loss.\n"
      ]
    },
    {
      "cell_type": "markdown",
      "metadata": {
        "id": "EeoCDG6ie13X",
        "colab_type": "text"
      },
      "source": [
        "## 5.1 Reading data from file"
      ]
    },
    {
      "cell_type": "code",
      "metadata": {
        "id": "avcovPhme13Y",
        "colab_type": "code",
        "outputId": "b378f17a-8ab1-4a22-f766-603cb1317556",
        "colab": {}
      },
      "source": [
        "# import numpy as np\n",
        "import numpy as np\n",
        "import pandas as pd\n",
        "import seaborn as sns\n",
        "import matplotlib.pyplot as plt\n",
        "from subprocess import check_output\n",
        "%matplotlib inline\n",
        "import plotly.offline as py\n",
        "py.init_notebook_mode(connected=True)\n",
        "import plotly.graph_objs as go\n",
        "import plotly.tools as tls\n",
        "import os\n",
        "import gc\n",
        "import re\n",
        "from nltk.corpus import stopwords\n",
        "import distance\n",
        "from nltk.stem import PorterStemmer\n",
        "from bs4 import BeautifulSoup\n",
        "import warnings\n",
        "warnings.filterwarnings(\"ignore\")\n",
        "# This package is used for finding longest common subsequence between two strings\n",
        "# you can write your own dp code for this\n",
        "import distance\n",
        "from nltk.stem import PorterStemmer\n",
        "from bs4 import BeautifulSoup\n",
        "from fuzzywuzzy import fuzz\n",
        "from sklearn.manifold import TSNE\n",
        "# Import the Required lib packages for WORD-Cloud generation\n",
        "# https://stackoverflow.com/questions/45625434/how-to-install-wordcloud-in-python3-6\n",
        "from wordcloud import WordCloud, STOPWORDS\n",
        "from os import path\n",
        "from PIL import Image\n",
        "from sklearn.model_selection import train_test_split\n",
        "from sklearn.linear_model import SGDClassifier\n",
        "from sklearn.calibration import CalibratedClassifierCV\n",
        "from sklearn.metrics.classification import accuracy_score,log_loss\n",
        "import xgboost as xgb\n",
        "from sklearn.model_selection import RandomizedSearchCV\n",
        "from sklearn.metrics import confusion_matrix\n",
        "from tqdm import tqdm"
      ],
      "execution_count": 0,
      "outputs": [
        {
          "output_type": "display_data",
          "data": {
            "text/html": [
              "<script type=\"text/javascript\">window.PlotlyConfig = {MathJaxConfig: 'local'};</script><script type=\"text/javascript\">if (window.MathJax) {MathJax.Hub.Config({SVG: {font: \"STIX-Web\"}});}</script><script>requirejs.config({paths: { 'plotly': ['https://cdn.plot.ly/plotly-latest.min']},});if(!window._Plotly) {require(['plotly'],function(plotly) {window._Plotly=plotly;});}</script>"
            ],
            "text/vnd.plotly.v1+html": "<script type=\"text/javascript\">window.PlotlyConfig = {MathJaxConfig: 'local'};</script><script type=\"text/javascript\">if (window.MathJax) {MathJax.Hub.Config({SVG: {font: \"STIX-Web\"}});}</script><script>requirejs.config({paths: { 'plotly': ['https://cdn.plot.ly/plotly-latest.min']},});if(!window._Plotly) {require(['plotly'],function(plotly) {window._Plotly=plotly;});}</script>"
          },
          "metadata": {
            "tags": []
          }
        }
      ]
    },
    {
      "cell_type": "code",
      "metadata": {
        "id": "0UtzGtB5h8k-",
        "colab_type": "code",
        "colab": {}
      },
      "source": [
        "from google.colab import drive\n",
        "import pandas as pd\n",
        "drive.mount('/content/gdrive')"
      ],
      "execution_count": 0,
      "outputs": []
    },
    {
      "cell_type": "code",
      "metadata": {
        "id": "gjh-DIq8h8zh",
        "colab_type": "code",
        "colab": {}
      },
      "source": [
        "cd /content/gdrive/My Drive"
      ],
      "execution_count": 0,
      "outputs": []
    },
    {
      "cell_type": "code",
      "metadata": {
        "id": "6l72m4OBe13c",
        "colab_type": "code",
        "colab": {}
      },
      "source": [
        "data1 = pd.read_csv(\"nlp_features_train.csv\",encoding='latin-1')"
      ],
      "execution_count": 0,
      "outputs": []
    },
    {
      "cell_type": "code",
      "metadata": {
        "scrolled": false,
        "id": "aA5UX9i_e13e",
        "colab_type": "code",
        "outputId": "fbeed8f1-ffd9-47ab-9b20-ab12e17feb28",
        "colab": {}
      },
      "source": [
        "data1.head()"
      ],
      "execution_count": 0,
      "outputs": [
        {
          "output_type": "execute_result",
          "data": {
            "text/html": [
              "<div>\n",
              "<style scoped>\n",
              "    .dataframe tbody tr th:only-of-type {\n",
              "        vertical-align: middle;\n",
              "    }\n",
              "\n",
              "    .dataframe tbody tr th {\n",
              "        vertical-align: top;\n",
              "    }\n",
              "\n",
              "    .dataframe thead th {\n",
              "        text-align: right;\n",
              "    }\n",
              "</style>\n",
              "<table border=\"1\" class=\"dataframe\">\n",
              "  <thead>\n",
              "    <tr style=\"text-align: right;\">\n",
              "      <th></th>\n",
              "      <th>id</th>\n",
              "      <th>qid1</th>\n",
              "      <th>qid2</th>\n",
              "      <th>question1</th>\n",
              "      <th>question2</th>\n",
              "      <th>is_duplicate</th>\n",
              "      <th>cwc_min</th>\n",
              "      <th>cwc_max</th>\n",
              "      <th>csc_min</th>\n",
              "      <th>csc_max</th>\n",
              "      <th>...</th>\n",
              "      <th>ctc_max</th>\n",
              "      <th>last_word_eq</th>\n",
              "      <th>first_word_eq</th>\n",
              "      <th>abs_len_diff</th>\n",
              "      <th>mean_len</th>\n",
              "      <th>token_set_ratio</th>\n",
              "      <th>token_sort_ratio</th>\n",
              "      <th>fuzz_ratio</th>\n",
              "      <th>fuzz_partial_ratio</th>\n",
              "      <th>longest_substr_ratio</th>\n",
              "    </tr>\n",
              "  </thead>\n",
              "  <tbody>\n",
              "    <tr>\n",
              "      <th>0</th>\n",
              "      <td>0</td>\n",
              "      <td>1</td>\n",
              "      <td>2</td>\n",
              "      <td>what is the step by step guide to invest in sh...</td>\n",
              "      <td>what is the step by step guide to invest in sh...</td>\n",
              "      <td>0</td>\n",
              "      <td>0.999980</td>\n",
              "      <td>0.833319</td>\n",
              "      <td>0.999983</td>\n",
              "      <td>0.999983</td>\n",
              "      <td>...</td>\n",
              "      <td>0.785709</td>\n",
              "      <td>0.0</td>\n",
              "      <td>1.0</td>\n",
              "      <td>2.0</td>\n",
              "      <td>13.0</td>\n",
              "      <td>100</td>\n",
              "      <td>93</td>\n",
              "      <td>93</td>\n",
              "      <td>100</td>\n",
              "      <td>0.982759</td>\n",
              "    </tr>\n",
              "    <tr>\n",
              "      <th>1</th>\n",
              "      <td>1</td>\n",
              "      <td>3</td>\n",
              "      <td>4</td>\n",
              "      <td>what is the story of kohinoor  koh i noor  dia...</td>\n",
              "      <td>what would happen if the indian government sto...</td>\n",
              "      <td>0</td>\n",
              "      <td>0.799984</td>\n",
              "      <td>0.399996</td>\n",
              "      <td>0.749981</td>\n",
              "      <td>0.599988</td>\n",
              "      <td>...</td>\n",
              "      <td>0.466664</td>\n",
              "      <td>0.0</td>\n",
              "      <td>1.0</td>\n",
              "      <td>5.0</td>\n",
              "      <td>12.5</td>\n",
              "      <td>86</td>\n",
              "      <td>63</td>\n",
              "      <td>66</td>\n",
              "      <td>75</td>\n",
              "      <td>0.596154</td>\n",
              "    </tr>\n",
              "    <tr>\n",
              "      <th>2</th>\n",
              "      <td>2</td>\n",
              "      <td>5</td>\n",
              "      <td>6</td>\n",
              "      <td>how can i increase the speed of my internet co...</td>\n",
              "      <td>how can internet speed be increased by hacking...</td>\n",
              "      <td>0</td>\n",
              "      <td>0.399992</td>\n",
              "      <td>0.333328</td>\n",
              "      <td>0.399992</td>\n",
              "      <td>0.249997</td>\n",
              "      <td>...</td>\n",
              "      <td>0.285712</td>\n",
              "      <td>0.0</td>\n",
              "      <td>1.0</td>\n",
              "      <td>4.0</td>\n",
              "      <td>12.0</td>\n",
              "      <td>66</td>\n",
              "      <td>66</td>\n",
              "      <td>54</td>\n",
              "      <td>54</td>\n",
              "      <td>0.166667</td>\n",
              "    </tr>\n",
              "    <tr>\n",
              "      <th>3</th>\n",
              "      <td>3</td>\n",
              "      <td>7</td>\n",
              "      <td>8</td>\n",
              "      <td>why am i mentally very lonely  how can i solve...</td>\n",
              "      <td>find the remainder when  math 23  24   math  i...</td>\n",
              "      <td>0</td>\n",
              "      <td>0.000000</td>\n",
              "      <td>0.000000</td>\n",
              "      <td>0.000000</td>\n",
              "      <td>0.000000</td>\n",
              "      <td>...</td>\n",
              "      <td>0.000000</td>\n",
              "      <td>0.0</td>\n",
              "      <td>0.0</td>\n",
              "      <td>2.0</td>\n",
              "      <td>12.0</td>\n",
              "      <td>36</td>\n",
              "      <td>36</td>\n",
              "      <td>35</td>\n",
              "      <td>40</td>\n",
              "      <td>0.039216</td>\n",
              "    </tr>\n",
              "    <tr>\n",
              "      <th>4</th>\n",
              "      <td>4</td>\n",
              "      <td>9</td>\n",
              "      <td>10</td>\n",
              "      <td>which one dissolve in water quikly sugar  salt...</td>\n",
              "      <td>which fish would survive in salt water</td>\n",
              "      <td>0</td>\n",
              "      <td>0.399992</td>\n",
              "      <td>0.199998</td>\n",
              "      <td>0.999950</td>\n",
              "      <td>0.666644</td>\n",
              "      <td>...</td>\n",
              "      <td>0.307690</td>\n",
              "      <td>0.0</td>\n",
              "      <td>1.0</td>\n",
              "      <td>6.0</td>\n",
              "      <td>10.0</td>\n",
              "      <td>67</td>\n",
              "      <td>47</td>\n",
              "      <td>46</td>\n",
              "      <td>56</td>\n",
              "      <td>0.175000</td>\n",
              "    </tr>\n",
              "  </tbody>\n",
              "</table>\n",
              "<p>5 rows × 21 columns</p>\n",
              "</div>"
            ],
            "text/plain": [
              "   id  qid1  qid2                                          question1  \\\n",
              "0   0     1     2  what is the step by step guide to invest in sh...   \n",
              "1   1     3     4  what is the story of kohinoor  koh i noor  dia...   \n",
              "2   2     5     6  how can i increase the speed of my internet co...   \n",
              "3   3     7     8  why am i mentally very lonely  how can i solve...   \n",
              "4   4     9    10  which one dissolve in water quikly sugar  salt...   \n",
              "\n",
              "                                           question2  is_duplicate   cwc_min  \\\n",
              "0  what is the step by step guide to invest in sh...             0  0.999980   \n",
              "1  what would happen if the indian government sto...             0  0.799984   \n",
              "2  how can internet speed be increased by hacking...             0  0.399992   \n",
              "3  find the remainder when  math 23  24   math  i...             0  0.000000   \n",
              "4            which fish would survive in salt water              0  0.399992   \n",
              "\n",
              "    cwc_max   csc_min   csc_max          ...            ctc_max  last_word_eq  \\\n",
              "0  0.833319  0.999983  0.999983          ...           0.785709           0.0   \n",
              "1  0.399996  0.749981  0.599988          ...           0.466664           0.0   \n",
              "2  0.333328  0.399992  0.249997          ...           0.285712           0.0   \n",
              "3  0.000000  0.000000  0.000000          ...           0.000000           0.0   \n",
              "4  0.199998  0.999950  0.666644          ...           0.307690           0.0   \n",
              "\n",
              "   first_word_eq  abs_len_diff  mean_len  token_set_ratio  token_sort_ratio  \\\n",
              "0            1.0           2.0      13.0              100                93   \n",
              "1            1.0           5.0      12.5               86                63   \n",
              "2            1.0           4.0      12.0               66                66   \n",
              "3            0.0           2.0      12.0               36                36   \n",
              "4            1.0           6.0      10.0               67                47   \n",
              "\n",
              "   fuzz_ratio  fuzz_partial_ratio  longest_substr_ratio  \n",
              "0          93                 100              0.982759  \n",
              "1          66                  75              0.596154  \n",
              "2          54                  54              0.166667  \n",
              "3          35                  40              0.039216  \n",
              "4          46                  56              0.175000  \n",
              "\n",
              "[5 rows x 21 columns]"
            ]
          },
          "metadata": {
            "tags": []
          },
          "execution_count": 20
        }
      ]
    },
    {
      "cell_type": "code",
      "metadata": {
        "id": "lUC7h7wEe13h",
        "colab_type": "code",
        "colab": {}
      },
      "source": [
        "data2 = pd.read_csv(\"df_fe_without_preprocessing_train.csv\",encoding='latin-1')"
      ],
      "execution_count": 0,
      "outputs": []
    },
    {
      "cell_type": "code",
      "metadata": {
        "id": "yerhnRake13j",
        "colab_type": "code",
        "outputId": "d247eaf2-b9d7-4a87-f99c-bcf36154e026",
        "colab": {}
      },
      "source": [
        "data2.head()"
      ],
      "execution_count": 0,
      "outputs": [
        {
          "output_type": "execute_result",
          "data": {
            "text/html": [
              "<div>\n",
              "<style scoped>\n",
              "    .dataframe tbody tr th:only-of-type {\n",
              "        vertical-align: middle;\n",
              "    }\n",
              "\n",
              "    .dataframe tbody tr th {\n",
              "        vertical-align: top;\n",
              "    }\n",
              "\n",
              "    .dataframe thead th {\n",
              "        text-align: right;\n",
              "    }\n",
              "</style>\n",
              "<table border=\"1\" class=\"dataframe\">\n",
              "  <thead>\n",
              "    <tr style=\"text-align: right;\">\n",
              "      <th></th>\n",
              "      <th>id</th>\n",
              "      <th>qid1</th>\n",
              "      <th>qid2</th>\n",
              "      <th>question1</th>\n",
              "      <th>question2</th>\n",
              "      <th>is_duplicate</th>\n",
              "      <th>freq_qid1</th>\n",
              "      <th>freq_qid2</th>\n",
              "      <th>q1len</th>\n",
              "      <th>q2len</th>\n",
              "      <th>q1_n_words</th>\n",
              "      <th>q2_n_words</th>\n",
              "      <th>word_Common</th>\n",
              "      <th>word_Total</th>\n",
              "      <th>word_share</th>\n",
              "      <th>freq_q1+q2</th>\n",
              "      <th>freq_q1-q2</th>\n",
              "    </tr>\n",
              "  </thead>\n",
              "  <tbody>\n",
              "    <tr>\n",
              "      <th>0</th>\n",
              "      <td>0</td>\n",
              "      <td>1</td>\n",
              "      <td>2</td>\n",
              "      <td>What is the step by step guide to invest in sh...</td>\n",
              "      <td>What is the step by step guide to invest in sh...</td>\n",
              "      <td>0</td>\n",
              "      <td>1</td>\n",
              "      <td>1</td>\n",
              "      <td>66</td>\n",
              "      <td>57</td>\n",
              "      <td>14</td>\n",
              "      <td>12</td>\n",
              "      <td>10.0</td>\n",
              "      <td>23.0</td>\n",
              "      <td>0.434783</td>\n",
              "      <td>2</td>\n",
              "      <td>0</td>\n",
              "    </tr>\n",
              "    <tr>\n",
              "      <th>1</th>\n",
              "      <td>1</td>\n",
              "      <td>3</td>\n",
              "      <td>4</td>\n",
              "      <td>What is the story of Kohinoor (Koh-i-Noor) Dia...</td>\n",
              "      <td>What would happen if the Indian government sto...</td>\n",
              "      <td>0</td>\n",
              "      <td>4</td>\n",
              "      <td>1</td>\n",
              "      <td>51</td>\n",
              "      <td>88</td>\n",
              "      <td>8</td>\n",
              "      <td>13</td>\n",
              "      <td>4.0</td>\n",
              "      <td>20.0</td>\n",
              "      <td>0.200000</td>\n",
              "      <td>5</td>\n",
              "      <td>3</td>\n",
              "    </tr>\n",
              "    <tr>\n",
              "      <th>2</th>\n",
              "      <td>2</td>\n",
              "      <td>5</td>\n",
              "      <td>6</td>\n",
              "      <td>How can I increase the speed of my internet co...</td>\n",
              "      <td>How can Internet speed be increased by hacking...</td>\n",
              "      <td>0</td>\n",
              "      <td>1</td>\n",
              "      <td>1</td>\n",
              "      <td>73</td>\n",
              "      <td>59</td>\n",
              "      <td>14</td>\n",
              "      <td>10</td>\n",
              "      <td>4.0</td>\n",
              "      <td>24.0</td>\n",
              "      <td>0.166667</td>\n",
              "      <td>2</td>\n",
              "      <td>0</td>\n",
              "    </tr>\n",
              "    <tr>\n",
              "      <th>3</th>\n",
              "      <td>3</td>\n",
              "      <td>7</td>\n",
              "      <td>8</td>\n",
              "      <td>Why am I mentally very lonely? How can I solve...</td>\n",
              "      <td>Find the remainder when [math]23^{24}[/math] i...</td>\n",
              "      <td>0</td>\n",
              "      <td>1</td>\n",
              "      <td>1</td>\n",
              "      <td>50</td>\n",
              "      <td>65</td>\n",
              "      <td>11</td>\n",
              "      <td>9</td>\n",
              "      <td>0.0</td>\n",
              "      <td>19.0</td>\n",
              "      <td>0.000000</td>\n",
              "      <td>2</td>\n",
              "      <td>0</td>\n",
              "    </tr>\n",
              "    <tr>\n",
              "      <th>4</th>\n",
              "      <td>4</td>\n",
              "      <td>9</td>\n",
              "      <td>10</td>\n",
              "      <td>Which one dissolve in water quikly sugar, salt...</td>\n",
              "      <td>Which fish would survive in salt water?</td>\n",
              "      <td>0</td>\n",
              "      <td>3</td>\n",
              "      <td>1</td>\n",
              "      <td>76</td>\n",
              "      <td>39</td>\n",
              "      <td>13</td>\n",
              "      <td>7</td>\n",
              "      <td>2.0</td>\n",
              "      <td>20.0</td>\n",
              "      <td>0.100000</td>\n",
              "      <td>4</td>\n",
              "      <td>2</td>\n",
              "    </tr>\n",
              "  </tbody>\n",
              "</table>\n",
              "</div>"
            ],
            "text/plain": [
              "   id  qid1  qid2                                          question1  \\\n",
              "0   0     1     2  What is the step by step guide to invest in sh...   \n",
              "1   1     3     4  What is the story of Kohinoor (Koh-i-Noor) Dia...   \n",
              "2   2     5     6  How can I increase the speed of my internet co...   \n",
              "3   3     7     8  Why am I mentally very lonely? How can I solve...   \n",
              "4   4     9    10  Which one dissolve in water quikly sugar, salt...   \n",
              "\n",
              "                                           question2  is_duplicate  freq_qid1  \\\n",
              "0  What is the step by step guide to invest in sh...             0          1   \n",
              "1  What would happen if the Indian government sto...             0          4   \n",
              "2  How can Internet speed be increased by hacking...             0          1   \n",
              "3  Find the remainder when [math]23^{24}[/math] i...             0          1   \n",
              "4            Which fish would survive in salt water?             0          3   \n",
              "\n",
              "   freq_qid2  q1len  q2len  q1_n_words  q2_n_words  word_Common  word_Total  \\\n",
              "0          1     66     57          14          12         10.0        23.0   \n",
              "1          1     51     88           8          13          4.0        20.0   \n",
              "2          1     73     59          14          10          4.0        24.0   \n",
              "3          1     50     65          11           9          0.0        19.0   \n",
              "4          1     76     39          13           7          2.0        20.0   \n",
              "\n",
              "   word_share  freq_q1+q2  freq_q1-q2  \n",
              "0    0.434783           2           0  \n",
              "1    0.200000           5           3  \n",
              "2    0.166667           2           0  \n",
              "3    0.000000           2           0  \n",
              "4    0.100000           4           2  "
            ]
          },
          "metadata": {
            "tags": []
          },
          "execution_count": 22
        }
      ]
    },
    {
      "cell_type": "code",
      "metadata": {
        "id": "YB04Jf2ye13m",
        "colab_type": "code",
        "colab": {}
      },
      "source": [
        "df1 = data1.drop(['qid1','qid2','question1','question2','is_duplicate'],axis=1)\n",
        "df2 = data2.drop(['qid1','qid2','question1','question2','is_duplicate'],axis=1)\n",
        "df3 = data1[['id','question1','question2']]\n",
        "duplicate = data1.is_duplicate"
      ],
      "execution_count": 0,
      "outputs": []
    },
    {
      "cell_type": "code",
      "metadata": {
        "id": "NgfqoPWOe13p",
        "colab_type": "code",
        "outputId": "f9126980-11e4-47cf-968c-ad997aecbc88",
        "colab": {}
      },
      "source": [
        "df1.columns"
      ],
      "execution_count": 0,
      "outputs": [
        {
          "output_type": "execute_result",
          "data": {
            "text/plain": [
              "Index(['id', 'cwc_min', 'cwc_max', 'csc_min', 'csc_max', 'ctc_min', 'ctc_max',\n",
              "       'last_word_eq', 'first_word_eq', 'abs_len_diff', 'mean_len',\n",
              "       'token_set_ratio', 'token_sort_ratio', 'fuzz_ratio',\n",
              "       'fuzz_partial_ratio', 'longest_substr_ratio'],\n",
              "      dtype='object')"
            ]
          },
          "metadata": {
            "tags": []
          },
          "execution_count": 24
        }
      ]
    },
    {
      "cell_type": "code",
      "metadata": {
        "id": "ETTcEz47e13r",
        "colab_type": "code",
        "outputId": "a42aece7-0485-499f-d930-258d618c2008",
        "colab": {}
      },
      "source": [
        "df2.columns"
      ],
      "execution_count": 0,
      "outputs": [
        {
          "output_type": "execute_result",
          "data": {
            "text/plain": [
              "Index(['id', 'freq_qid1', 'freq_qid2', 'q1len', 'q2len', 'q1_n_words',\n",
              "       'q2_n_words', 'word_Common', 'word_Total', 'word_share', 'freq_q1+q2',\n",
              "       'freq_q1-q2'],\n",
              "      dtype='object')"
            ]
          },
          "metadata": {
            "tags": []
          },
          "execution_count": 25
        }
      ]
    },
    {
      "cell_type": "code",
      "metadata": {
        "id": "imFxzzFke13u",
        "colab_type": "code",
        "outputId": "ec753a02-9a45-43f2-be71-a0abfa9b942c",
        "colab": {}
      },
      "source": [
        "df3.columns"
      ],
      "execution_count": 0,
      "outputs": [
        {
          "output_type": "execute_result",
          "data": {
            "text/plain": [
              "Index(['id', 'question1', 'question2'], dtype='object')"
            ]
          },
          "metadata": {
            "tags": []
          },
          "execution_count": 26
        }
      ]
    },
    {
      "cell_type": "code",
      "metadata": {
        "id": "jPgZftS2e13x",
        "colab_type": "code",
        "colab": {}
      },
      "source": [
        "df3 = df3.fillna(' ')\n",
        "df4 = pd.DataFrame()\n",
        "df4['Text'] = df3.question1 + ' ' + df3.question2\n",
        "df4['id'] = df3.id"
      ],
      "execution_count": 0,
      "outputs": []
    },
    {
      "cell_type": "code",
      "metadata": {
        "id": "o2_Fphpge130",
        "colab_type": "code",
        "colab": {}
      },
      "source": [
        "df2['id']=df1['id']\n",
        "df4['id']=df1['id']"
      ],
      "execution_count": 0,
      "outputs": []
    },
    {
      "cell_type": "code",
      "metadata": {
        "id": "mqs5p_wce132",
        "colab_type": "code",
        "colab": {}
      },
      "source": [
        "df5 = df1.merge(df2, on='id',how='left')\n",
        "final = df5.merge(df4, on='id',how='left')"
      ],
      "execution_count": 0,
      "outputs": []
    },
    {
      "cell_type": "code",
      "metadata": {
        "id": "1w95rvsLe136",
        "colab_type": "code",
        "outputId": "9db3d899-ddd8-4acc-8bcf-0789e9edccbf",
        "colab": {}
      },
      "source": [
        "final.columns"
      ],
      "execution_count": 0,
      "outputs": [
        {
          "output_type": "execute_result",
          "data": {
            "text/plain": [
              "Index(['id', 'cwc_min', 'cwc_max', 'csc_min', 'csc_max', 'ctc_min', 'ctc_max',\n",
              "       'last_word_eq', 'first_word_eq', 'abs_len_diff', 'mean_len',\n",
              "       'token_set_ratio', 'token_sort_ratio', 'fuzz_ratio',\n",
              "       'fuzz_partial_ratio', 'longest_substr_ratio', 'freq_qid1', 'freq_qid2',\n",
              "       'q1len', 'q2len', 'q1_n_words', 'q2_n_words', 'word_Common',\n",
              "       'word_Total', 'word_share', 'freq_q1+q2', 'freq_q1-q2', 'Text'],\n",
              "      dtype='object')"
            ]
          },
          "metadata": {
            "tags": []
          },
          "execution_count": 30
        }
      ]
    },
    {
      "cell_type": "code",
      "metadata": {
        "id": "6UVJ7xOle139",
        "colab_type": "code",
        "colab": {}
      },
      "source": [
        "final = final.drop('id',axis=1)"
      ],
      "execution_count": 0,
      "outputs": []
    },
    {
      "cell_type": "code",
      "metadata": {
        "id": "3Ao1IW9Ke13_",
        "colab_type": "code",
        "outputId": "f290011d-cc47-4235-fbd0-194ae140417c",
        "colab": {}
      },
      "source": [
        "final.shape"
      ],
      "execution_count": 0,
      "outputs": [
        {
          "output_type": "execute_result",
          "data": {
            "text/plain": [
              "(404290, 27)"
            ]
          },
          "metadata": {
            "tags": []
          },
          "execution_count": 32
        }
      ]
    },
    {
      "cell_type": "markdown",
      "metadata": {
        "id": "cIcM-jCye14B",
        "colab_type": "text"
      },
      "source": [
        "## 5.2 Random train test split"
      ]
    },
    {
      "cell_type": "code",
      "metadata": {
        "id": "0Qb1P7kte14C",
        "colab_type": "code",
        "colab": {}
      },
      "source": [
        "X_train_tf,X_test_tf, y_train_tf, y_test_tf = train_test_split(final,duplicate, stratify=duplicate)"
      ],
      "execution_count": 0,
      "outputs": []
    },
    {
      "cell_type": "code",
      "metadata": {
        "id": "qnzyKmTde14E",
        "colab_type": "code",
        "outputId": "756e2d35-e323-47bc-c2dd-4c0e104f32cf",
        "colab": {}
      },
      "source": [
        "from sklearn.feature_extraction.text import TfidfVectorizer\n",
        "tfidf_vect = TfidfVectorizer(ngram_range=(1,3),max_features=200000,min_df=0.000032)\n",
        "train_tfidf = tfidf_vect.fit_transform(X_train_tf.Text)\n",
        "test_tfidf = tfidf_vect.transform(X_test_tf.Text)\n",
        "print('No of Tfidf features:',len(tfidf_vect.get_feature_names()))"
      ],
      "execution_count": 0,
      "outputs": [
        {
          "output_type": "stream",
          "text": [
            "No of Tfidf features: 131529\n"
          ],
          "name": "stdout"
        }
      ]
    },
    {
      "cell_type": "code",
      "metadata": {
        "id": "nDEN2N4De14G",
        "colab_type": "code",
        "colab": {}
      },
      "source": [
        "X_train_tf1 = X_train_tf.drop('Text',axis=1)\n",
        "X_test_tf1 = X_test_tf.drop('Text',axis=1)"
      ],
      "execution_count": 0,
      "outputs": []
    },
    {
      "cell_type": "code",
      "metadata": {
        "id": "t6XGwZ4Be14J",
        "colab_type": "code",
        "colab": {}
      },
      "source": [
        "from scipy.sparse import hstack\n",
        "X_train1 = hstack((X_train_tf1.values,train_tfidf))\n",
        "X_test1 = hstack((X_test_tf1.values,test_tfidf))"
      ],
      "execution_count": 0,
      "outputs": []
    },
    {
      "cell_type": "code",
      "metadata": {
        "id": "lPMT1gTYe14R",
        "colab_type": "code",
        "outputId": "696c20cc-09d7-4e73-961e-23ad3bda1d58",
        "colab": {}
      },
      "source": [
        "X_train1"
      ],
      "execution_count": 0,
      "outputs": [
        {
          "output_type": "execute_result",
          "data": {
            "text/plain": [
              "<303217x131555 sparse matrix of type '<class 'numpy.float64'>'\n",
              "\twith 17295739 stored elements in COOrdinate format>"
            ]
          },
          "metadata": {
            "tags": []
          },
          "execution_count": 37
        }
      ]
    },
    {
      "cell_type": "code",
      "metadata": {
        "id": "knu7LoVHe14W",
        "colab_type": "code",
        "colab": {}
      },
      "source": [
        "from sklearn.preprocessing import StandardScaler\n",
        "scale = StandardScaler(with_mean=False)\n",
        "X_train_sc = scale.fit_transform(X_train1)\n",
        "X_test_sc = scale.transform(X_test1)"
      ],
      "execution_count": 0,
      "outputs": []
    },
    {
      "cell_type": "code",
      "metadata": {
        "id": "fhgaDC-ue14c",
        "colab_type": "code",
        "colab": {}
      },
      "source": [
        "# This function plots the confusion matrices given y_i, y_i_hat.\n",
        "def plot_confusion_matrix(test_y, predict_y):\n",
        "    C = confusion_matrix(test_y, predict_y)\n",
        "    # C = 9,9 matrix, each cell (i,j) represents number of points of class i are predicted class j\n",
        "    \n",
        "    A =(((C.T)/(C.sum(axis=1))).T)\n",
        "    #divid each element of the confusion matrix with the sum of elements in that column\n",
        "    \n",
        "    # C = [[1, 2],\n",
        "    #     [3, 4]]\n",
        "    # C.T = [[1, 3],\n",
        "    #        [2, 4]]\n",
        "    # C.sum(axis = 1)  axis=0 corresonds to columns and axis=1 corresponds to rows in two diamensional array\n",
        "    # C.sum(axix =1) = [[3, 7]]\n",
        "    # ((C.T)/(C.sum(axis=1))) = [[1/3, 3/7]\n",
        "    #                           [2/3, 4/7]]\n",
        "\n",
        "    # ((C.T)/(C.sum(axis=1))).T = [[1/3, 2/3]\n",
        "    #                           [3/7, 4/7]]\n",
        "    # sum of row elements = 1\n",
        "    \n",
        "    B =(C/C.sum(axis=0))\n",
        "    #divid each element of the confusion matrix with the sum of elements in that row\n",
        "    # C = [[1, 2],\n",
        "    #     [3, 4]]\n",
        "    # C.sum(axis = 0)  axis=0 corresonds to columns and axis=1 corresponds to rows in two diamensional array\n",
        "    # C.sum(axix =0) = [[4, 6]]\n",
        "    # (C/C.sum(axis=0)) = [[1/4, 2/6],\n",
        "    #                      [3/4, 4/6]] \n",
        "    plt.figure(figsize=(20,4))\n",
        "    \n",
        "    labels = [1,2]\n",
        "    # representing A in heatmap format\n",
        "    cmap=sns.light_palette(\"blue\")\n",
        "    plt.subplot(1, 3, 1)\n",
        "    sns.heatmap(C, annot=True, cmap=cmap, fmt=\".3f\", xticklabels=labels, yticklabels=labels)\n",
        "    plt.xlabel('Predicted Class')\n",
        "    plt.ylabel('Original Class')\n",
        "    plt.title(\"Confusion matrix\")\n",
        "    \n",
        "    plt.subplot(1, 3, 2)\n",
        "    sns.heatmap(B, annot=True, cmap=cmap, fmt=\".3f\", xticklabels=labels, yticklabels=labels)\n",
        "    plt.xlabel('Predicted Class')\n",
        "    plt.ylabel('Original Class')\n",
        "    plt.title(\"Precision matrix\")\n",
        "    \n",
        "    plt.subplot(1, 3, 3)\n",
        "    # representing B in heatmap format\n",
        "    sns.heatmap(A, annot=True, cmap=cmap, fmt=\".3f\", xticklabels=labels, yticklabels=labels)\n",
        "    plt.xlabel('Predicted Class')\n",
        "    plt.ylabel('Original Class')\n",
        "    plt.title(\"Recall matrix\")\n",
        "    \n",
        "    plt.show()"
      ],
      "execution_count": 0,
      "outputs": []
    },
    {
      "cell_type": "markdown",
      "metadata": {
        "id": "UvmA9hg1e14f",
        "colab_type": "text"
      },
      "source": [
        "## 5.3 Logistic Regression with hyperparameter tuning"
      ]
    },
    {
      "cell_type": "code",
      "metadata": {
        "id": "Iq5PKuc6e14h",
        "colab_type": "code",
        "outputId": "6099906e-3d9c-4b87-a86f-0f890102b08c",
        "colab": {}
      },
      "source": [
        "%%time\n",
        "alpha = [10 ** x for x in range(-5, 2)] # hyperparam for SGD classifier.\n",
        "\n",
        "# read more about SGDClassifier() at http://scikit-learn.org/stable/modules/generated/sklearn.linear_model.SGDClassifier.html\n",
        "# ------------------------------\n",
        "# default parameters\n",
        "# SGDClassifier(loss=’hinge’, penalty=’l2’, alpha=0.0001, l1_ratio=0.15, fit_intercept=True, max_iter=None, tol=None, \n",
        "# shuffle=True, verbose=0, epsilon=0.1, n_jobs=1, random_state=None, learning_rate=’optimal’, eta0=0.0, power_t=0.5, \n",
        "# class_weight=None, warm_start=False, average=False, n_iter=None)\n",
        "\n",
        "# some of methods\n",
        "# fit(X, y[, coef_init, intercept_init, …])\tFit linear model with Stochastic Gradient Descent.\n",
        "# predict(X)\tPredict class labels for samples in X.\n",
        "\n",
        "#-------------------------------\n",
        "# video link: \n",
        "#------------------------------\n",
        "\n",
        "\n",
        "log_error_array=[]\n",
        "for i in alpha:\n",
        "    clf = SGDClassifier(alpha=i, penalty='l2', loss='log', random_state=42)\n",
        "    clf.fit(X_train_sc, y_train_tf)\n",
        "    sig_clf = CalibratedClassifierCV(clf, method=\"sigmoid\")\n",
        "    sig_clf.fit(X_train_sc, y_train_tf)\n",
        "    predict_y = sig_clf.predict_proba(X_test_sc)\n",
        "    log_error_array.append(log_loss(y_test_tf, predict_y, labels=clf.classes_, eps=1e-15))\n",
        "    print('For values of alpha = ', i, \"The log loss is:\",log_loss(y_test_tf, predict_y, labels=clf.classes_, eps=1e-15))\n",
        "\n",
        "fig, ax = plt.subplots()\n",
        "ax.plot(alpha, log_error_array,c='g')\n",
        "for i, txt in enumerate(np.round(log_error_array,3)):\n",
        "    ax.annotate((alpha[i],np.round(txt,3)), (alpha[i],log_error_array[i]))\n",
        "plt.grid()\n",
        "plt.title(\"Cross Validation Error for each alpha\")\n",
        "plt.xlabel(\"Alpha i's\")\n",
        "plt.ylabel(\"Error measure\")\n",
        "plt.show()\n",
        "\n",
        "\n",
        "best_alpha = np.argmin(log_error_array)\n",
        "clf = SGDClassifier(alpha=alpha[best_alpha], penalty='l2', loss='log', random_state=42)\n",
        "clf.fit(X_train_sc, y_train_tf)\n",
        "sig_clf = CalibratedClassifierCV(clf, method=\"sigmoid\")\n",
        "sig_clf.fit(X_train_sc, y_train_tf)\n",
        "\n",
        "predict_y = sig_clf.predict_proba(X_train_sc)\n",
        "print('For values of best alpha = ', alpha[best_alpha], \"The train log loss is:\",log_loss(y_train_tf, predict_y, labels=clf.classes_, eps=1e-15))\n",
        "predict_y = sig_clf.predict_proba(X_test_sc)\n",
        "print('For values of best alpha = ', alpha[best_alpha], \"The test log loss is:\",log_loss(y_test_tf, predict_y, labels=clf.classes_, eps=1e-15))\n",
        "predicted_y =np.argmax(predict_y,axis=1)\n",
        "print(\"Total number of data points :\", len(predicted_y))\n",
        "plot_confusion_matrix(y_test_tf, predicted_y)"
      ],
      "execution_count": 0,
      "outputs": [
        {
          "output_type": "stream",
          "text": [
            "For values of alpha =  1e-05 The log loss is: 0.44497069113164167\n",
            "For values of alpha =  0.0001 The log loss is: 0.4436868348533212\n",
            "For values of alpha =  0.001 The log loss is: 0.43743149853561936\n",
            "For values of alpha =  0.01 The log loss is: 0.41145770615035543\n",
            "For values of alpha =  0.1 The log loss is: 0.3822953397579647\n",
            "For values of alpha =  1 The log loss is: 0.4006907083248526\n",
            "For values of alpha =  10 The log loss is: 0.45983851148362404\n"
          ],
          "name": "stdout"
        },
        {
          "output_type": "display_data",
          "data": {
            "image/png": "[encoded data removed]",
            "text/plain": [
              "<Figure size 432x288 with 1 Axes>"
            ]
          },
          "metadata": {
            "tags": [],
            "needs_background": "light"
          }
        },
        {
          "output_type": "stream",
          "text": [
            "For values of best alpha =  0.1 The train log loss is: 0.26672528864755474\n",
            "For values of best alpha =  0.1 The test log loss is: 0.3822953397579647\n",
            "Total number of data points : 101073\n"
          ],
          "name": "stdout"
        },
        {
          "output_type": "display_data",
          "data": {
            "image/png": "[encoded data removed]",
            "text/plain": [
              "<Figure size 1440x288 with 6 Axes>"
            ]
          },
          "metadata": {
            "tags": [],
            "needs_background": "light"
          }
        },
        {
          "output_type": "stream",
          "text": [
            "Wall time: 6min 9s\n"
          ],
          "name": "stdout"
        }
      ]
    },
    {
      "cell_type": "markdown",
      "metadata": {
        "id": "pl8Rm8uJe14j",
        "colab_type": "text"
      },
      "source": [
        "## 5.4 Linear SVM with hyperparameter tuning "
      ]
    },
    {
      "cell_type": "code",
      "metadata": {
        "id": "4sDNUvxte14k",
        "colab_type": "code",
        "outputId": "f7f5e0ee-8291-415a-9e4f-53fb25c9ca5d",
        "colab": {}
      },
      "source": [
        "%%time\n",
        "alpha = [10 ** x for x in range(-5, 2)] # hyperparam for SGD classifier.\n",
        "\n",
        "# read more about SGDClassifier() at http://scikit-learn.org/stable/modules/generated/sklearn.linear_model.SGDClassifier.html\n",
        "# ------------------------------\n",
        "# default parameters\n",
        "# SGDClassifier(loss=’hinge’, penalty=’l2’, alpha=0.0001, l1_ratio=0.15, fit_intercept=True, max_iter=None, tol=None, \n",
        "# shuffle=True, verbose=0, epsilon=0.1, n_jobs=1, random_state=None, learning_rate=’optimal’, eta0=0.0, power_t=0.5, \n",
        "# class_weight=None, warm_start=False, average=False, n_iter=None)\n",
        "\n",
        "# some of methods\n",
        "# fit(X, y[, coef_init, intercept_init, …])\tFit linear model with Stochastic Gradient Descent.\n",
        "# predict(X)\tPredict class labels for samples in X.\n",
        "\n",
        "#-------------------------------\n",
        "# video link: \n",
        "#------------------------------\n",
        "\n",
        "\n",
        "log_error_array=[]\n",
        "for i in alpha:\n",
        "    clf = SGDClassifier(alpha=i, penalty='l2', loss='hinge', random_state=42)\n",
        "    clf.fit(X_train_sc, y_train_tf)\n",
        "    sig_clf = CalibratedClassifierCV(clf, method=\"sigmoid\")\n",
        "    sig_clf.fit(X_train_sc, y_train_tf)\n",
        "    predict_y = sig_clf.predict_proba(X_test_sc)\n",
        "    log_error_array.append(log_loss(y_test_tf, predict_y, labels=clf.classes_, eps=1e-15))\n",
        "    print('For values of alpha = ', i, \"The log loss is:\",log_loss(y_test_tf, predict_y, labels=clf.classes_, eps=1e-15))\n",
        "\n",
        "fig, ax = plt.subplots()\n",
        "ax.plot(alpha, log_error_array,c='g')\n",
        "for i, txt in enumerate(np.round(log_error_array,3)):\n",
        "    ax.annotate((alpha[i],np.round(txt,3)), (alpha[i],log_error_array[i]))\n",
        "plt.grid()\n",
        "plt.title(\"Cross Validation Error for each alpha\")\n",
        "plt.xlabel(\"Alpha i's\")\n",
        "plt.ylabel(\"Error measure\")\n",
        "plt.show()\n",
        "\n",
        "\n",
        "best_alpha = np.argmin(log_error_array)\n",
        "clf = SGDClassifier(alpha=alpha[best_alpha], penalty='l2', loss='hinge', random_state=42)\n",
        "clf.fit(X_train_sc, y_train_tf)\n",
        "sig_clf = CalibratedClassifierCV(clf, method=\"sigmoid\")\n",
        "sig_clf.fit(X_train_sc, y_train_tf)\n",
        "\n",
        "predict_y = sig_clf.predict_proba(X_train_sc)\n",
        "print('For values of best alpha = ', alpha[best_alpha], \"The train log loss is:\",log_loss(y_train_tf, predict_y, labels=clf.classes_, eps=1e-15))\n",
        "predict_y = sig_clf.predict_proba(X_test_sc)\n",
        "print('For values of best alpha = ', alpha[best_alpha], \"The test log loss is:\",log_loss(y_test_tf, predict_y, labels=clf.classes_, eps=1e-15))\n",
        "predicted_y =np.argmax(predict_y,axis=1)\n",
        "print(\"Total number of data points :\", len(predicted_y))\n",
        "plot_confusion_matrix(y_test_tf, predicted_y)"
      ],
      "execution_count": 0,
      "outputs": [
        {
          "output_type": "stream",
          "text": [
            "For values of alpha =  1e-05 The log loss is: 0.4441656179651442\n",
            "For values of alpha =  0.0001 The log loss is: 0.4433613968344315\n",
            "For values of alpha =  0.001 The log loss is: 0.44156543138720733\n",
            "For values of alpha =  0.01 The log loss is: 0.4342230423066317\n",
            "For values of alpha =  0.1 The log loss is: 0.4067742304043786\n",
            "For values of alpha =  1 The log loss is: 0.3964299794642901\n",
            "For values of alpha =  10 The log loss is: 0.471783243611753\n"
          ],
          "name": "stdout"
        },
        {
          "output_type": "display_data",
          "data": {
            "image/png": "[encoded data removed]",
            "text/plain": [
              "<Figure size 432x288 with 1 Axes>"
            ]
          },
          "metadata": {
            "tags": [],
            "needs_background": "light"
          }
        },
        {
          "output_type": "stream",
          "text": [
            "For values of best alpha =  1 The train log loss is: 0.3052788509129974\n",
            "For values of best alpha =  1 The test log loss is: 0.3964299794642901\n",
            "Total number of data points : 101073\n"
          ],
          "name": "stdout"
        },
        {
          "output_type": "display_data",
          "data": {
            "image/png": "[encoded data removed]",
            "text/plain": [
              "<Figure size 1440x288 with 6 Axes>"
            ]
          },
          "metadata": {
            "tags": [],
            "needs_background": "light"
          }
        },
        {
          "output_type": "stream",
          "text": [
            "Wall time: 5min 30s\n"
          ],
          "name": "stdout"
        }
      ]
    },
    {
      "cell_type": "markdown",
      "metadata": {
        "id": "05tmKk_ne14n",
        "colab_type": "text"
      },
      "source": [
        "## 5.5 XG Boost with hyperparameter tuning "
      ]
    },
    {
      "cell_type": "code",
      "metadata": {
        "id": "q_sHP00te14o",
        "colab_type": "code",
        "outputId": "96cd9690-502e-4292-b594-f6ee01268fe1",
        "colab": {}
      },
      "source": [
        "%%time\n",
        "params={\n",
        "    \"max_depth\":[4,5,6,7,8],\n",
        "    'n_estimators':[50,80,100,125,150],\n",
        "    \"min_child_weight\": [1,3,5,7],\n",
        "    'gamma':[0.25,0.5,0.75],\n",
        "    'subsample':[0.6,0.7,0.8],\n",
        "    'colsample_bytree':[0.5,0.6,0.7]\n",
        "     }\n",
        "x_model=xgb.XGBClassifier(learning_rate=0.01,objective='binary:logistic',eta=0.02,silent=False,verbose=10,n_jobs=-1)\n",
        "xgb_random_search=RandomizedSearchCV(x_model,params,scoring='neg_log_loss',n_jobs=-1,cv=3,verbose=10,random_state=0)\n",
        "xgb_random_search.fit(X_train_sc,y_train_tf)\n",
        "print(\"Best Score:\",xgb_random_search.best_score_)\n",
        "print(\"Best Params\",xgb_random_search.best_params_)"
      ],
      "execution_count": 0,
      "outputs": [
        {
          "output_type": "stream",
          "text": [
            "Fitting 3 folds for each of 10 candidates, totalling 30 fits\n"
          ],
          "name": "stdout"
        },
        {
          "output_type": "stream",
          "text": [
            "[Parallel(n_jobs=-1)]: Using backend LokyBackend with 4 concurrent workers.\n",
            "[Parallel(n_jobs=-1)]: Done   5 tasks      | elapsed: 16.8min\n",
            "[Parallel(n_jobs=-1)]: Done  10 tasks      | elapsed: 28.0min\n",
            "[Parallel(n_jobs=-1)]: Done  17 tasks      | elapsed: 50.2min\n",
            "[Parallel(n_jobs=-1)]: Done  27 out of  30 | elapsed: 75.4min remaining:  8.4min\n",
            "[Parallel(n_jobs=-1)]: Done  30 out of  30 | elapsed: 82.9min finished\n"
          ],
          "name": "stderr"
        },
        {
          "output_type": "stream",
          "text": [
            "Best Score: -0.4100938254350353\n",
            "Best Params {'subsample': 0.6, 'n_estimators': 150, 'min_child_weight': 3, 'max_depth': 7, 'gamma': 0.75, 'colsample_bytree': 0.7}\n",
            "Wall time: 1h 26min 37s\n"
          ],
          "name": "stdout"
        }
      ]
    },
    {
      "cell_type": "code",
      "metadata": {
        "id": "MVlmBA38e14t",
        "colab_type": "code",
        "outputId": "9c3dd9bc-6a31-48d3-c09f-6d626272e05d",
        "colab": {}
      },
      "source": [
        "%%time\n",
        "params = {}\n",
        "params['objective'] = 'binary:logistic'\n",
        "params['eval_metric'] = 'logloss'\n",
        "params['eta'] = 0.02\n",
        "params['max_depth'] = 7\n",
        "params['subsample'] = 0.6\n",
        "params['n_estimators'] = 150\n",
        "params['min_child_weight'] = 3\n",
        "params['gamma'] = 0.75\n",
        "params['colsample_bytree'] = 0.7\n",
        "\n",
        "d_train = xgb.DMatrix(X_train_sc, label=y_train_tf)\n",
        "d_test = xgb.DMatrix(X_test_sc, label=y_test_tf)\n",
        "\n",
        "watchlist = [(d_train, 'train'), (d_test, 'valid')]\n",
        "bst = xgb.train(params, d_train, 400, watchlist, early_stopping_rounds=20, verbose_eval=10)\n",
        "\n",
        "xgdmat = xgb.DMatrix(X_train_sc,y_train_tf)\n",
        "predict_y = bst.predict(d_test)\n",
        "print(\"\\nThe test log loss is:\",log_loss(y_test_tf, predict_y, labels=[0, 1], eps=1e-15))"
      ],
      "execution_count": 0,
      "outputs": [
        {
          "output_type": "stream",
          "text": [
            "[0]\ttrain-logloss:0.684159\tvalid-logloss:0.684223\n",
            "Multiple eval metrics have been passed: 'valid-logloss' will be used for early stopping.\n",
            "\n",
            "Will train until valid-logloss hasn't improved in 20 rounds.\n",
            "[10]\ttrain-logloss:0.606699\tvalid-logloss:0.607055\n",
            "[20]\ttrain-logloss:0.548887\tvalid-logloss:0.549325\n",
            "[30]\ttrain-logloss:0.506651\tvalid-logloss:0.507433\n",
            "[40]\ttrain-logloss:0.47442\tvalid-logloss:0.475374\n",
            "[50]\ttrain-logloss:0.449219\tvalid-logloss:0.450361\n",
            "[60]\ttrain-logloss:0.429497\tvalid-logloss:0.430886\n",
            "[70]\ttrain-logloss:0.413213\tvalid-logloss:0.414857\n",
            "[80]\ttrain-logloss:0.400101\tvalid-logloss:0.401972\n",
            "[90]\ttrain-logloss:0.389746\tvalid-logloss:0.391824\n",
            "[100]\ttrain-logloss:0.380655\tvalid-logloss:0.383024\n",
            "[110]\ttrain-logloss:0.373361\tvalid-logloss:0.37591\n",
            "[120]\ttrain-logloss:0.36722\tvalid-logloss:0.369968\n",
            "[130]\ttrain-logloss:0.362115\tvalid-logloss:0.365148\n",
            "[140]\ttrain-logloss:0.357764\tvalid-logloss:0.361006\n",
            "[150]\ttrain-logloss:0.353911\tvalid-logloss:0.357416\n",
            "[160]\ttrain-logloss:0.350659\tvalid-logloss:0.354358\n",
            "[170]\ttrain-logloss:0.34779\tvalid-logloss:0.351714\n",
            "[180]\ttrain-logloss:0.345308\tvalid-logloss:0.34943\n",
            "[190]\ttrain-logloss:0.343298\tvalid-logloss:0.347598\n",
            "[200]\ttrain-logloss:0.341353\tvalid-logloss:0.345872\n",
            "[210]\ttrain-logloss:0.339683\tvalid-logloss:0.344422\n",
            "[220]\ttrain-logloss:0.338145\tvalid-logloss:0.343059\n",
            "[230]\ttrain-logloss:0.336875\tvalid-logloss:0.341973\n",
            "[240]\ttrain-logloss:0.335607\tvalid-logloss:0.34088\n",
            "[250]\ttrain-logloss:0.334566\tvalid-logloss:0.339942\n",
            "[260]\ttrain-logloss:0.333384\tvalid-logloss:0.338968\n",
            "[270]\ttrain-logloss:0.332261\tvalid-logloss:0.338031\n",
            "[280]\ttrain-logloss:0.33124\tvalid-logloss:0.337206\n",
            "[290]\ttrain-logloss:0.33041\tvalid-logloss:0.336518\n",
            "[300]\ttrain-logloss:0.329568\tvalid-logloss:0.335814\n",
            "[310]\ttrain-logloss:0.328439\tvalid-logloss:0.334893\n",
            "[320]\ttrain-logloss:0.327504\tvalid-logloss:0.334123\n",
            "[330]\ttrain-logloss:0.326546\tvalid-logloss:0.333293\n",
            "[340]\ttrain-logloss:0.325593\tvalid-logloss:0.332514\n",
            "[350]\ttrain-logloss:0.324538\tvalid-logloss:0.331663\n",
            "[360]\ttrain-logloss:0.323829\tvalid-logloss:0.331103\n",
            "[370]\ttrain-logloss:0.323137\tvalid-logloss:0.33056\n",
            "[380]\ttrain-logloss:0.322459\tvalid-logloss:0.330044\n",
            "[390]\ttrain-logloss:0.321772\tvalid-logloss:0.329506\n",
            "[399]\ttrain-logloss:0.321247\tvalid-logloss:0.329103\n",
            "\n",
            "The test log loss is: 0.3291035093456576\n",
            "Wall time: 11min 3s\n"
          ],
          "name": "stdout"
        }
      ]
    },
    {
      "cell_type": "code",
      "metadata": {
        "id": "hDhbz9QYe140",
        "colab_type": "code",
        "outputId": "6fb24543-2afa-4336-f2e6-9d0e4dad106b",
        "colab": {}
      },
      "source": [
        "predicted_y =np.array(predict_y>0.5,dtype=int)\n",
        "print(\"Total number of data points :\", len(predicted_y))\n",
        "plot_confusion_matrix(y_test_tf, predicted_y)"
      ],
      "execution_count": 0,
      "outputs": [
        {
          "output_type": "stream",
          "text": [
            "Total number of data points : 101073\n"
          ],
          "name": "stdout"
        },
        {
          "output_type": "display_data",
          "data": {
            "image/png": "[encoded data removed]",
            "text/plain": [
              "<Figure size 1440x288 with 6 Axes>"
            ]
          },
          "metadata": {
            "tags": [],
            "needs_background": "light"
          }
        }
      ]
    },
    {
      "cell_type": "markdown",
      "metadata": {
        "id": "TF7Yt-Uie142",
        "colab_type": "text"
      },
      "source": [
        "## 5.6 XG Boost with hyperparameter tuning for TFIDF-W2V"
      ]
    },
    {
      "cell_type": "code",
      "metadata": {
        "id": "MyhZqMh7e143",
        "colab_type": "code",
        "colab": {}
      },
      "source": [
        "# avoid decoding problems\n",
        "df = pd.read_csv(\"ttrain.csv\")\n",
        "df['question1'] = df['question1'].apply(lambda x: str(x))\n",
        "df['question2'] = df['question2'].apply(lambda x: str(x))"
      ],
      "execution_count": 0,
      "outputs": []
    },
    {
      "cell_type": "code",
      "metadata": {
        "id": "R-bCVg2ve148",
        "colab_type": "code",
        "colab": {}
      },
      "source": [
        "# merge texts\n",
        "questions = list(df['question1']) + list(df['question2'])\n",
        "\n",
        "tfidf = TfidfVectorizer(lowercase=False, )\n",
        "tfidf.fit_transform(questions)\n",
        "\n",
        "# dict key:word and value:tf-idf score\n",
        "word2tfidf = dict(zip(tfidf.get_feature_names(), tfidf.idf_))"
      ],
      "execution_count": 0,
      "outputs": []
    },
    {
      "cell_type": "code",
      "metadata": {
        "id": "lRer9oELe14_",
        "colab_type": "code",
        "colab": {}
      },
      "source": [
        "import en_core_web_md"
      ],
      "execution_count": 0,
      "outputs": []
    },
    {
      "cell_type": "code",
      "metadata": {
        "id": "kpcmrzZpe15C",
        "colab_type": "code",
        "outputId": "6a797515-2ad2-4aac-9f22-912273c3cec5",
        "colab": {}
      },
      "source": [
        "# en_vectors_web_lg, which includes over 1 million unique vectors.\n",
        "nlp = en_core_web_md.load()\n",
        "\n",
        "vecs1 = []\n",
        "# https://github.com/noamraph/tqdm\n",
        "# tqdm is used to print the progress bar\n",
        "for qu1 in tqdm(list(X_train_tf.Text)):\n",
        "    doc1 = nlp(qu1) \n",
        "    # 384 is the number of dimensions of vectors \n",
        "    mean_vec1 = np.zeros([len(doc1), len(doc1[0].vector)])\n",
        "    for word1 in doc1:\n",
        "        # word2vec\n",
        "        vec1 = word1.vector\n",
        "        # fetch df score\n",
        "        try:\n",
        "            idf = word2tfidf[str(word1)]\n",
        "        except:\n",
        "            idf = 0\n",
        "        # compute final vec\n",
        "        mean_vec1 += vec1 * idf\n",
        "    mean_vec1 = mean_vec1.mean(axis=0)\n",
        "    vecs1.append(mean_vec1)"
      ],
      "execution_count": 0,
      "outputs": [
        {
          "output_type": "stream",
          "text": [
            "100%|████████████████████████████████████████████████████████████████████████| 303217/303217 [1:11:27<00:00, 64.78it/s]\n"
          ],
          "name": "stderr"
        }
      ]
    },
    {
      "cell_type": "code",
      "metadata": {
        "id": "u-s3sQXOe15E",
        "colab_type": "code",
        "outputId": "449eab63-3c65-4d9f-d541-029d24193448",
        "colab": {}
      },
      "source": [
        "vecs2 = []\n",
        "for qu2 in tqdm(list(X_test_tf.Text)):\n",
        "    doc2 = nlp(qu2) \n",
        "    mean_vec2 = np.zeros([len(doc1), len(doc2[0].vector)])\n",
        "    for word2 in doc2:\n",
        "        # word2vec\n",
        "        vec2 = word2.vector\n",
        "        # fetch df score\n",
        "        try:\n",
        "            idf = word2tfidf[str(word2)]\n",
        "        except:\n",
        "            #print word\n",
        "            idf = 0\n",
        "        # compute final vec\n",
        "        mean_vec2 += vec2 * idf\n",
        "    mean_vec2 = mean_vec2.mean(axis=0)\n",
        "    vecs2.append(mean_vec2)"
      ],
      "execution_count": 0,
      "outputs": [
        {
          "output_type": "stream",
          "text": [
            "100%|██████████████████████████████████████████████████████████████████████████| 101073/101073 [24:22<00:00, 70.65it/s]\n"
          ],
          "name": "stderr"
        }
      ]
    },
    {
      "cell_type": "code",
      "metadata": {
        "id": "XGrJ_Hwve15I",
        "colab_type": "code",
        "colab": {}
      },
      "source": [
        "X_train_tf2 = X_train_tf.drop('Text',axis=1)\n",
        "X_test_tf2 = X_test_tf.drop('Text',axis=1)"
      ],
      "execution_count": 0,
      "outputs": []
    },
    {
      "cell_type": "code",
      "metadata": {
        "id": "r3BvoDsue15L",
        "colab_type": "code",
        "colab": {}
      },
      "source": [
        "from scipy.sparse import hstack\n",
        "X_train2 = hstack((X_train_tf2,vecs1))\n",
        "X_test2 = hstack((X_test_tf2,vecs2))"
      ],
      "execution_count": 0,
      "outputs": []
    },
    {
      "cell_type": "code",
      "metadata": {
        "id": "QCpBMZ-Ze15N",
        "colab_type": "code",
        "colab": {}
      },
      "source": [
        "from sklearn.preprocessing import StandardScaler\n",
        "scale = StandardScaler(with_mean=False)\n",
        "X_train_sc2 = scale.fit_transform(X_train2)\n",
        "X_test_sc2 = scale.transform(X_test2)"
      ],
      "execution_count": 0,
      "outputs": []
    },
    {
      "cell_type": "code",
      "metadata": {
        "id": "fTgee0tPe15Q",
        "colab_type": "code",
        "colab": {}
      },
      "source": [
        "%%time\n",
        "params={\n",
        "    \"max_depth\":[4,5,6,7,8],\n",
        "    'n_estimators':[50,80,100,125,150],\n",
        "    \"min_child_weight\": [1,3,5,7],\n",
        "    'gamma':[0.25,0.5,0.75],\n",
        "    'subsample':[0.6,0.7,0.8],\n",
        "    'colsample_bytree':[0.5,0.6,0.7]\n",
        "     }\n",
        "x_model=xgb.XGBClassifier(learning_rate=0.01,objective='binary:logistic',eta=0.02,silent=False,verbose=10,n_jobs=-1)\n",
        "xgb_random_search=RandomizedSearchCV(x_model,params, error_score='raise',scoring='neg_log_loss',n_jobs=-1,cv=3,verbose=10,random_state=0)\n",
        "xgb_random_search.fit(X_train_sc2,y_train_tf)\n",
        "print(\"Best Score:\",xgb_random_search.best_score_)\n",
        "print(\"Best Params\",xgb_random_search.best_params_)"
      ],
      "execution_count": 0,
      "outputs": []
    },
    {
      "cell_type": "code",
      "metadata": {
        "id": "HFRoE6Mre15S",
        "colab_type": "code",
        "colab": {}
      },
      "source": [
        "%%time\n",
        "params = {}\n",
        "params['objective'] = 'binary:logistic'\n",
        "params['eval_metric'] = 'logloss'\n",
        "params['eta'] = 0.02\n",
        "params['max_depth'] = 7\n",
        "params['subsample'] = 0.6\n",
        "params['n_estimators'] = 150\n",
        "params['min_child_weight'] = 3\n",
        "params['gamma'] = 0.75\n",
        "params['colsample_bytree'] = 0.7\n",
        "\n",
        "d_train = xgb.DMatrix(X_train_sc2, label=y_train_tf)\n",
        "d_test = xgb.DMatrix(X_test_sc2, label=y_test_tf)\n",
        "\n",
        "watchlist = [(d_train, 'train'), (d_test, 'valid')]\n",
        "bst = xgb.train(params, d_train, 400, watchlist, early_stopping_rounds=20, verbose_eval=10)\n",
        "\n",
        "xgdmat = xgb.DMatrix(X_train_sc2,y_train_tf)\n",
        "predict_y = bst.predict(d_test)\n",
        "print(\"\\nThe test log loss is:\",log_loss(y_test_tf, predict_y, labels=[0, 1], eps=1e-15))"
      ],
      "execution_count": 0,
      "outputs": []
    },
    {
      "cell_type": "code",
      "metadata": {
        "id": "rzVrjT06e15T",
        "colab_type": "code",
        "colab": {}
      },
      "source": [
        "predicted_y =np.array(predict_y>0.5,dtype=int)\n",
        "print(\"Total number of data points :\", len(predicted_y))\n",
        "plot_confusion_matrix(y_test_tf, predicted_y)"
      ],
      "execution_count": 0,
      "outputs": []
    },
    {
      "cell_type": "markdown",
      "metadata": {
        "id": "ohgsak7xe15X",
        "colab_type": "text"
      },
      "source": [
        "## 5.7 Results"
      ]
    },
    {
      "cell_type": "code",
      "metadata": {
        "id": "Z8bNZ4nye15X",
        "colab_type": "code",
        "outputId": "e9b225ec-7a62-4c02-f846-948289a5801c",
        "colab": {}
      },
      "source": [
        "#http://zetcode.com/python/prettytable/\n",
        "from prettytable import PrettyTable\n",
        "    \n",
        "x = PrettyTable()\n",
        "x.field_names = [\"Model\", \"Test log-loss with TF_IDF weighted word2Vec\", \"Test log-loss with TF_IDF Vectors\"]\n",
        "x.add_row([\"Logistic regression\", 0.52, 0.38])\n",
        "x.add_row([\" Linear-SVM\", 0.49, 0.396])\n",
        "x.add_row([\"XGBoost\", 0.357, 0.329])\n",
        "\n",
        "print(x)"
      ],
      "execution_count": 0,
      "outputs": [
        {
          "output_type": "stream",
          "text": [
            "+---------------------+---------------------------------------------+-----------------------------------+\n",
            "|        Model        | Test log-loss with TF_IDF weighted word2Vec | Test log-loss with TF_IDF Vectors |\n",
            "+---------------------+---------------------------------------------+-----------------------------------+\n",
            "| Logistic regression |                     0.52                    |                0.38               |\n",
            "|      Linear-SVM     |                     0.49                    |               0.396               |\n",
            "|       XGBoost       |                    0.357                    |               0.329               |\n",
            "+---------------------+---------------------------------------------+-----------------------------------+\n"
          ],
          "name": "stdout"
        }
      ]
    },
    {
      "cell_type": "markdown",
      "metadata": {
        "id": "5p-y5ThHe15Z",
        "colab_type": "text"
      },
      "source": [
        "## 5.8 Conclusions"
      ]
    },
    {
      "cell_type": "markdown",
      "metadata": {
        "id": "EggnrIToe15a",
        "colab_type": "raw"
      },
      "source": [
        "1. Hyperparameter tuning for Logistic Regression, Linear SVM & XG Boost has been done for TF-IDF Vectors.\n",
        "2. Confusion,Precision & Recall matrix has been plotted for these models.\n",
        "3. Data has been splitted into train & Test set before TFIDF Vectorizations.\n",
        "4. Feature engineering also has been done.\n",
        "5. Using TF-IDF VEctors instead  of TF_IDF weighted word2Vec for all the three models results in reducing test log loss."
      ]
    }
  ]
}